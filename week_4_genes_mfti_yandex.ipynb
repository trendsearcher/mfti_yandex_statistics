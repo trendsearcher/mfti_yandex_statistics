{
 "cells": [
  {
   "cell_type": "markdown",
   "metadata": {},
   "source": [
    "# Инструкции к решению задачи\n",
    "Задание состоит из трёх частей. Если не сказано обратное, то уровень значимости нужно принять равным 0.05.\n",
    "\n",
    "Часть 1: применение t-критерия Стьюдента\n",
    "В первой части вам нужно будет применить критерий Стьюдента для проверки гипотезы о равенстве средних в двух независимых выборках. Применить критерий для каждого гена нужно будет дважды:\n",
    "\n",
    "для групп normal (control) и early neoplasia (treatment)\n",
    "\n",
    "для групп early neoplasia (control) и cancer (treatment)\n",
    "\n",
    "В качестве ответа в этой части задания необходимо указать количество статистически значимых отличий, которые вы нашли с помощью t-критерия Стьюдента, то есть число генов, у которых p-value этого теста оказался меньше, чем уровень значимости."
   ]
  },
  {
   "cell_type": "code",
   "execution_count": 1,
   "metadata": {},
   "outputs": [
    {
     "name": "stdout",
     "output_type": "stream",
     "text": [
      "Index(['Patient_id', 'Diagnosis', 'LOC643837', 'LOC100130417', 'SAMD11',\n",
      "       'NOC2L', 'KLHL17', 'PLEKHN1', 'C1orf170', 'HES4',\n",
      "       ...\n",
      "       'CLIC2', 'RPS4Y1', 'ZFY', 'PRKY', 'USP9Y', 'DDX3Y', 'CD24', 'CYorf15B',\n",
      "       'KDM5D', 'EIF1AY'],\n",
      "      dtype='object', length=15750)\n"
     ]
    }
   ],
   "source": [
    "import pandas as pd\n",
    "import numpy as np\n",
    "'''\n",
    "patient id1    diagnosis    gene1_expr    gene2_expr ........\n",
    "patient id2    diagnosis    gene1_expr    gene2_expr ........\n",
    ". . . . . .. . . . . . . . . . . . . . . . . . ..  . . .. . . \n",
    "'''\n",
    "data = pd.read_csv('C:\\\\Users\\\\user\\\\Desktop\\\\genes.csv', sep=\",\", header=0)\n",
    "print(data.columns)"
   ]
  },
  {
   "cell_type": "code",
   "execution_count": 8,
   "metadata": {},
   "outputs": [
    {
     "data": {
      "text/plain": [
       "True"
      ]
     },
     "execution_count": 8,
     "metadata": {},
     "output_type": "execute_result"
    }
   ],
   "source": [
    "import scipy\n",
    "normal = data[data.Diagnosis == 'normal']\n",
    "early_neoplasia = data[data.Diagnosis == 'early neoplasia']\n",
    "cancer = data[data.Diagnosis == 'cancer']\n",
    "#совпадают ли списки генов для разных категорий? нет ли артефактов?\n",
    "normal.columns.tolist() == early_neoplasia.columns.tolist()"
   ]
  },
  {
   "cell_type": "code",
   "execution_count": 9,
   "metadata": {},
   "outputs": [
    {
     "data": {
      "text/plain": [
       "True"
      ]
     },
     "execution_count": 9,
     "metadata": {},
     "output_type": "execute_result"
    }
   ],
   "source": [
    "cancer.columns.tolist() == early_neoplasia.columns.tolist()"
   ]
  },
  {
   "cell_type": "code",
   "execution_count": 17,
   "metadata": {},
   "outputs": [
    {
     "name": "stdout",
     "output_type": "stream",
     "text": [
      "1575\n"
     ]
    }
   ],
   "source": [
    "column_list = cancer.columns.tolist()[2:] # список названй генов\n",
    "# тест дает (статистика, р val)\n",
    "ttest_ind1 = [scipy.stats.ttest_ind(early_neoplasia[column], normal[column], equal_var = False) for column in column_list]\n",
    "\n",
    "mean_gene_exp_normal = [np.mean( normal[column]) for column in column_list] \n",
    "mean_gene_exp_early = [np.mean( early_neoplasia[column]) for column in column_list] \n",
    "mean_gene_exp_cancer = [np.mean( cancer[column]) for column in column_list]\n",
    "\n",
    "print (len([test.pvalue for test in ttest_ind1 if test.pvalue < 0.05]))"
   ]
  },
  {
   "cell_type": "code",
   "execution_count": 11,
   "metadata": {},
   "outputs": [
    {
     "name": "stdout",
     "output_type": "stream",
     "text": [
      "3490\n"
     ]
    }
   ],
   "source": [
    "ttest_ind2 = [scipy.stats.ttest_ind(early_neoplasia[column], cancer[column], equal_var = False) for column in column_list]\n",
    "print (len([test.pvalue for test in ttest_ind2 if test.pvalue < 0.05]))"
   ]
  },
  {
   "cell_type": "markdown",
   "metadata": {},
   "source": [
    "В качестве ответа в этой части задания необходимо указать количество статистически значимых отличий, которые вы нашли с помощью t-критерия Стьюдента, то есть число генов, у которых p-value этого теста оказался меньше, чем уровень значимости."
   ]
  },
  {
   "cell_type": "code",
   "execution_count": 12,
   "metadata": {
    "collapsed": true
   },
   "outputs": [],
   "source": [
    "def write_answer(task,ans):\n",
    "    with open(\"C:\\\\Users\\\\user\\\\Desktop\\\\\" + 'bio_' + str(task)+\".txt\", \"w\") as fout:\n",
    "        fout.write(str(ans))\n",
    "write_answer(1,1575)\n",
    "write_answer(2,3490)"
   ]
  },
  {
   "cell_type": "markdown",
   "metadata": {},
   "source": [
    "В этой части задания нужно будет применить поправку Холма для получившихся двух наборов достигаемых уровней значимости из предыдущей части. Обратите внимание, что поскольку вы будете делать поправку для каждого из двух наборов p-value отдельно, то проблема, связанная с множественной проверкой останется.\n",
    "\n",
    "Для того, чтобы ее устранить, достаточно воспользоваться поправкой Бонферрони, то есть использовать уровень значимости 0.05 / 2 вместо 0.05 для дальнейшего уточнения значений p-value c помощью метода Холма.\n",
    "\n",
    "В качестве ответа к этому заданию требуется ввести количество значимых отличий в каждой группе после того, как произведена коррекция Холма-Бонферрони. Причем это число нужно ввести с учетом практической значимости: посчитайте для каждого значимого изменения fold change и выпишите в ответ число таких значимых изменений, абсолютное значение fold change которых больше, чем 1.5\n",
    "\n",
    "Практическая значимость изменения\n",
    "Цель исследований — найти гены, средняя экспрессия которых отличается не только статистически значимо, но и достаточно сильно. В экспрессионных исследованиях для этого часто используется метрика, которая называется fold change (кратность изменения). Определяется она следующим образом:f = a/b (if a > b) or -b/a (if b > a). По сути, fold change показывает, во сколько раз отличаются средние двух выборок."
   ]
  },
  {
   "cell_type": "code",
   "execution_count": 13,
   "metadata": {},
   "outputs": [
    {
     "name": "stdout",
     "output_type": "stream",
     "text": [
      "(array([False, False, False, ..., False, False, False]), array([1.        , 0.50017368, 1.        , ..., 1.        , 1.        ,\n",
      "       1.        ]), 1.6076827300537389e-06, 1.58750317500635e-06)\n"
     ]
    }
   ],
   "source": [
    "import statsmodels.stats.multitest as smm\n",
    "norm_early_pvals = [test.pvalue for test in ttest_ind1]\n",
    "cans_early_pvals = [test.pvalue for test in ttest_ind2]\n",
    "holm_norm_early = smm.multipletests(norm_early_pvals, alpha=0.025, method='holm', is_sorted=False, returnsorted=False)\n",
    "cans_norm_early = smm.multipletests(cans_early_pvals, alpha=0.025, method='holm', is_sorted=False, returnsorted=False)\n",
    "print(holm_norm_early)"
   ]
  },
  {
   "cell_type": "code",
   "execution_count": 23,
   "metadata": {},
   "outputs": [
    {
     "name": "stdout",
     "output_type": "stream",
     "text": [
      "holm corrected pvals= 2\n",
      "holm corrected pvals practical= 2\n"
     ]
    }
   ],
   "source": [
    "norm_early_H1 = len([x for x in holm_norm_early[0] if x == True])\n",
    "print('holm corrected pvals=', norm_early_H1)\n",
    "norm_early_H1_practice = len([y/z for x,y,z in zip(holm_norm_early[0], mean_gene_exp_normal, mean_gene_exp_early) \n",
    "                              if x == True and (y/z > 1.5 or z/y > 1.5)])\n",
    "print('holm corrected pvals practical=', norm_early_H1_practice)"
   ]
  },
  {
   "cell_type": "code",
   "execution_count": 27,
   "metadata": {},
   "outputs": [
    {
     "name": "stdout",
     "output_type": "stream",
     "text": [
      "holm corrected pvals= 79\n",
      "holm corrected pvals practical= 77\n"
     ]
    }
   ],
   "source": [
    "cans_early_H1 = len([x for x in cans_norm_early[0] if x == True])\n",
    "print('holm corrected pvals=', cans_early_H1)\n",
    "cancer_early_H1_practice = len([y/z for x,y,z in zip(cans_norm_early[0], mean_gene_exp_cancer, mean_gene_exp_early) \n",
    "                                if x == True and (y/z > 1.5 or z/y > 1.5)])\n",
    "print('holm corrected pvals practical=', cancer_early_H1_practice)"
   ]
  },
  {
   "cell_type": "code",
   "execution_count": 29,
   "metadata": {
    "collapsed": true
   },
   "outputs": [],
   "source": [
    "write_answer(3,2)\n",
    "write_answer(4,77)"
   ]
  },
  {
   "cell_type": "markdown",
   "metadata": {
    "collapsed": true
   },
   "source": [
    "Данная часть задания аналогична второй части за исключением того, что нужно будет использовать метод Бенджамини-Хохберга.\n",
    "\n",
    "Обратите внимание, что методы коррекции, которые контролируют FDR, допускает больше ошибок первого рода и имеют большую мощность, чем методы, контролирующие FWER. Большая мощность означает, что эти методы будут совершать меньше ошибок второго рода (то есть будут лучше улавливать отклонения от H_0, когда они есть, и будут чаще отклонять H_0, когда отличий нет).\n",
    "\n",
    "В качестве ответа к этому заданию требуется ввести количество значимых отличий в каждой группе после того, как произведена коррекция Бенджамини-Хохберга, причем так же, как и во второй части, считать только такие отличия, у которых abs(fold change) > 1.5."
   ]
  },
  {
   "cell_type": "code",
   "execution_count": 30,
   "metadata": {},
   "outputs": [
    {
     "name": "stdout",
     "output_type": "stream",
     "text": [
      "(array([False, False, False, ..., False, False, False]), array([0.96651052, 0.03569758, 0.53610276, ..., 0.96312033, 0.97735971,\n",
      "       0.96074074]), 1.6076827300537389e-06, 1.58750317500635e-06)\n",
      "holm corrected pvals= 4\n",
      "holm corrected pvals practical= 4\n",
      "holm corrected pvals= 832\n",
      "holm corrected pvals practical= 524\n"
     ]
    }
   ],
   "source": [
    "import statsmodels.stats.multitest as smm\n",
    "norm_early_pvals = [test.pvalue for test in ttest_ind1]\n",
    "cans_early_pvals = [test.pvalue for test in ttest_ind2]\n",
    "holm_norm_early = smm.multipletests(norm_early_pvals, alpha=0.025, method='fdr_bh', is_sorted=False, returnsorted=False)\n",
    "cans_norm_early = smm.multipletests(cans_early_pvals, alpha=0.025, method='fdr_bh', is_sorted=False, returnsorted=False)\n",
    "print(holm_norm_early)\n",
    "\n",
    "norm_early_H1 = len([x for x in holm_norm_early[0] if x == True])\n",
    "print('holm corrected pvals=', norm_early_H1)\n",
    "norm_early_H1_practice = len([y/z for x,y,z in zip(holm_norm_early[0], mean_gene_exp_normal, mean_gene_exp_early) \n",
    "                              if x == True and (y/z > 1.5 or z/y > 1.5)])\n",
    "print('holm corrected pvals practical=', norm_early_H1_practice)\n",
    "\n",
    "cans_early_H1 = len([x for x in cans_norm_early[0] if x == True])\n",
    "print('holm corrected pvals=', cans_early_H1)\n",
    "cancer_early_H1_practice = len([y/z for x,y,z in zip(cans_norm_early[0], mean_gene_exp_cancer, mean_gene_exp_early) \n",
    "                                if x == True and (y/z > 1.5 or z/y > 1.5)])\n",
    "print('holm corrected pvals practical=', cancer_early_H1_practice)"
   ]
  },
  {
   "cell_type": "code",
   "execution_count": 31,
   "metadata": {
    "collapsed": true
   },
   "outputs": [],
   "source": [
    "write_answer(5,4)\n",
    "write_answer(6,524)"
   ]
  },
  {
   "cell_type": "code",
   "execution_count": null,
   "metadata": {
    "collapsed": true
   },
   "outputs": [],
   "source": []
  }
 ],
 "metadata": {
  "kernelspec": {
   "display_name": "Python 3",
   "language": "python",
   "name": "python3"
  },
  "language_info": {
   "codemirror_mode": {
    "name": "ipython",
    "version": 3
   },
   "file_extension": ".py",
   "mimetype": "text/x-python",
   "name": "python",
   "nbconvert_exporter": "python",
   "pygments_lexer": "ipython3",
   "version": "3.6.2"
  }
 },
 "nbformat": 4,
 "nbformat_minor": 2
}
