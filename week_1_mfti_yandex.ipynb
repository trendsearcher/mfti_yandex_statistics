{
 "cells": [
  {
   "cell_type": "code",
   "execution_count": 63,
   "metadata": {},
   "outputs": [
    {
     "name": "stdout",
     "output_type": "stream",
     "text": [
      "  location         town  mortality  hardness\n",
      "0    South         Bath       1247       105\n",
      "1    North   Birkenhead       1668        17\n",
      "2    South   Birmingham       1466         5\n",
      "3    North    Blackburn       1800        14\n",
      "4    North    Blackpool       1609        18\n",
      "5    North       Bolton       1558        10\n",
      "6    North       Bootle       1807        15\n",
      "7    South  Bournemouth       1299        78\n",
      "8    North     Bradford       1637        10\n",
      "9    South     Brighton       1359        84 Index(['location', 'town', 'mortality', 'hardness'], dtype='object')\n"
     ]
    }
   ],
   "source": [
    "import pandas as pd\n",
    "import numpy as np\n",
    "import math\n",
    "df = pd.read_csv('C:\\\\Users\\\\user_PC\\\\Desktop\\\\mortality.txt', sep=\"\\t\", header=0)\n",
    "#data.columns = ['location', 'town', 'mortality', 'hardness']\n",
    "print(df.head(10), df.columns)"
   ]
  },
  {
   "cell_type": "markdown",
   "metadata": {},
   "source": [
    "определим дов интервалы для смерности в больших городах по данной нам выборке (всей выборке)"
   ]
  },
  {
   "cell_type": "code",
   "execution_count": 64,
   "metadata": {},
   "outputs": [
    {
     "name": "stdout",
     "output_type": "stream",
     "text": [
      "размер выборки=26, СКО жесткости воды=40.36068155252851, СКО смертности=140.26917529686108\n"
     ]
    }
   ],
   "source": [
    "#df = df[df[\"location\"] == 'South']\n",
    "n = (len(df))\n",
    "std_hardness = df.std()['hardness']\n",
    "std_mortality = df.std()['mortality']\n",
    "print('размер выборки={}, СКО жесткости воды={}, СКО смертности={}'.format(n, std_hardness, std_mortality))"
   ]
  },
  {
   "cell_type": "code",
   "execution_count": 65,
   "metadata": {},
   "outputs": [
    {
     "name": "stdout",
     "output_type": "stream",
     "text": [
      "среднее жесткости воды=69.76923076923077, среднее смертности=1376.8076923076924\n"
     ]
    }
   ],
   "source": [
    "mean_hardness = df.mean()['hardness']\n",
    "mean_mortality = df.mean()['mortality']\n",
    "print('среднее жесткости воды={}, среднее смертности={}'.format(mean_hardness, mean_mortality))"
   ]
  },
  {
   "cell_type": "markdown",
   "metadata": {},
   "source": [
    "#### доверительный интервал. поскольку реальная дисперсия ген выборки неизвестна, исп т критерий $$\\bar{X}_n \\pm t_{1-\\frac{\\alpha}{2}} \\frac{S}{\\sqrt{n}}$$\n"
   ]
  },
  {
   "cell_type": "code",
   "execution_count": 66,
   "metadata": {},
   "outputs": [
    {
     "name": "stdout",
     "output_type": "stream",
     "text": [
      "sgd model mean auc 95%% confidence interval (53.467198692036106, 86.07126284642544)\n"
     ]
    }
   ],
   "source": [
    "from statsmodels.stats.weightstats import  _tconfint_generic\n",
    "mean_std = std_hardness/math.sqrt(n)\n",
    "print (\"sgd model mean auc 95%% confidence interval\", _tconfint_generic(mean_hardness, mean_std,\n",
    "                                                                       n - 1,\n",
    "                                                                       0.05, 'two-sided'))"
   ]
  },
  {
   "cell_type": "markdown",
   "metadata": {},
   "source": [
    "## доверительный интервал доли\n",
    "определеим дов интервал правильно (по Вилсону) чего-то там у генеральной выборки, если у локальной выборки 1 случай чего-то там на 50 человек\n"
   ]
  },
  {
   "cell_type": "code",
   "execution_count": 26,
   "metadata": {},
   "outputs": [
    {
     "name": "stdout",
     "output_type": "stream",
     "text": [
      "(0.5730534379509052, 0.7543687726587197)\n"
     ]
    }
   ],
   "source": [
    "from statsmodels.stats.proportion import proportion_confint\n",
    "print(proportion_confint(1, 50, method = 'wilson'))"
   ]
  },
  {
   "cell_type": "markdown",
   "metadata": {},
   "source": [
    "теперь определим неправильно по нормальному распределению"
   ]
  },
  {
   "cell_type": "code",
   "execution_count": 4,
   "metadata": {},
   "outputs": [
    {
     "name": "stdout",
     "output_type": "stream",
     "text": [
      "2.9677379253417944\n",
      "-0.038758213130223 0.078758213130223\n"
     ]
    }
   ],
   "source": [
    "import numpy as np\n",
    "import math\n",
    "import scipy.stats as st\n",
    "\n",
    "z_score_95 = st.norm.ppf(.975)\n",
    "print(z_score_95)\n",
    "boarder_95 = z_score_95*math.sqrt(0.02*0.98/50)\n",
    "print((0.02-boarder_95), (0.02+boarder_95))"
   ]
  },
  {
   "cell_type": "markdown",
   "metadata": {},
   "source": [
    " По данным опроса, 75% работников ресторанов утверждают, что испытывают на работе существенный стресс, оказывающий негативное влияние на их личную жизнь. Крупная ресторанная сеть опрашивает 100 своих работников, чтобы выяснить, отличается ли уровень стресса работников в их ресторанах от среднего. 67 из 100 работников отметили высокий уровень стресса."
   ]
  },
  {
   "cell_type": "code",
   "execution_count": 9,
   "metadata": {},
   "outputs": [
    {
     "name": "stdout",
     "output_type": "stream",
     "text": [
      "0.044596325212681504\n"
     ]
    }
   ],
   "source": [
    "import scipy\n",
    "p_value = scipy.stats.binom_test(67, n=100, p=0.75, alternative='less',)\n",
    "print(p_value)"
   ]
  },
  {
   "cell_type": "markdown",
   "metadata": {},
   "source": [
    "Для участка заповедника размером 200х200 м имеется информация о координатах сосен (sn — координата в направлении север-юг, we — в направлении запад-восток, обе от 0 до 200).\n",
    "\n",
    "Загрузите данные, поделите участок на 5х5 одинаковых квадратов размера 40x40 м, посчитайте количество сосен в каждом квадрате (чтобы получить такой же результат, как у нас, используйте функцию scipy.stats.binned_statistic_2d).\n",
    "\n",
    "Если сосны действительно растут равномерно, какое среднее ожидаемое количество сосен в каждом квадрате?"
   ]
  },
  {
   "cell_type": "code",
   "execution_count": 1,
   "metadata": {},
   "outputs": [
    {
     "name": "stdout",
     "output_type": "stream",
     "text": [
      "      sn    we\n",
      "0  200.0   8.8\n",
      "1  199.3  10.0\n",
      "2  193.6  22.4\n",
      "3  167.7  35.6\n",
      "4  183.9  45.4\n",
      "5  182.5  47.2\n",
      "6  166.1  48.8\n",
      "7  160.7  42.1\n",
      "8  162.9  29.0\n",
      "9  166.4  33.6 Index(['sn', 'we'], dtype='object')\n"
     ]
    }
   ],
   "source": [
    "import pandas as pd\n",
    "import numpy as np\n",
    "import math\n",
    "df = pd.read_csv('C:\\\\Users\\\\user_PC\\\\Desktop\\\\pines.txt', sep=\"\\t\", header=0)\n",
    "print(df.head(10), df.columns)"
   ]
  },
  {
   "cell_type": "code",
   "execution_count": 2,
   "metadata": {},
   "outputs": [
    {
     "name": "stdout",
     "output_type": "stream",
     "text": [
      "               sn          we\n",
      "count  584.000000  584.000000\n",
      "mean    98.735274  113.829281\n",
      "std     56.523154   49.810725\n",
      "min      0.000000    0.000000\n",
      "25%     52.050000   79.125000\n",
      "50%    101.450000  121.900000\n",
      "75%    149.400000  149.725000\n",
      "max    200.000000  200.000000\n"
     ]
    }
   ],
   "source": [
    "print(df.describe())"
   ]
  },
  {
   "cell_type": "code",
   "execution_count": 3,
   "metadata": {},
   "outputs": [
    {
     "name": "stdout",
     "output_type": "stream",
     "text": [
      "средняя плотность дереьвев в лесу 23.36\n",
      "распределение по квадратам [[18. 26. 29. 25. 20.]\n",
      " [14. 12. 22. 34. 25.]\n",
      " [12. 24. 15. 50. 37.]\n",
      " [ 8. 19. 31. 50.  7.]\n",
      " [ 7.  8. 37. 27. 27.]]\n"
     ]
    },
    {
     "name": "stderr",
     "output_type": "stream",
     "text": [
      "C:\\Users\\user_PC\\Anaconda3\\lib\\site-packages\\scipy\\stats\\_binned_statistic.py:607: FutureWarning: Using a non-tuple sequence for multidimensional indexing is deprecated; use `arr[tuple(seq)]` instead of `arr[seq]`. In the future this will be interpreted as an array index, `arr[np.array(seq)]`, which will result either in an error or a different result.\n",
      "  result = result[core]\n"
     ]
    }
   ],
   "source": [
    "#все параметры от 0 до 200. тогда при делении на кважраты 40*40 будет по 5 квадратов в каждом направллении\n",
    "#заведем список из 25 значений, которые соответствую количеству деревьев в квадрате\n",
    "sn = df['sn'].values.tolist()\n",
    "we = df['we'].values.tolist()\n",
    "values = list(zip(sn,we))\n",
    "print('средняя плотность дереьвев в лесу', len(sn)/25)\n",
    "bin_list = [0, 40, 80, 120, 160, 200]\n",
    "from scipy import stats\n",
    "ret = stats.binned_statistic_2d(sn, we, bin_list, 'count', bins=[bin_list,bin_list])\n",
    "print('распределение по квадратам',ret[0])\n"
   ]
  },
  {
   "cell_type": "markdown",
   "metadata": {},
   "source": [
    "Чтобы сравнить распределение сосен с равномерным, посчитайте значение статистики хи-квадрат для полученных 5х5 квадратов относительно гипотезы о равномерном распределении деревьев по квадратам."
   ]
  },
  {
   "cell_type": "code",
   "execution_count": 8,
   "metadata": {},
   "outputs": [
    {
     "data": {
      "text/plain": [
       "Power_divergenceResult(statistic=150.58904109589042, pvalue=2.574669774967279e-20)"
      ]
     },
     "execution_count": 8,
     "metadata": {},
     "output_type": "execute_result"
    }
   ],
   "source": [
    "from scipy import stats\n",
    "flat_distribution = [int(x) for x in ret[0].ravel()]\n",
    "generated_distribution = [23.36]*len(flat_distribution)\n",
    "\n",
    "std_ = np.std(flat_distribution, ddof = 1)\n",
    "mean_ = np.mean(flat_distribution)\n",
    "\n",
    "stats.chisquare(flat_distribution, generated_distribution, ddof = 1)\n",
    "\n",
    "\n",
    "\n",
    "\n"
   ]
  },
  {
   "cell_type": "markdown",
   "metadata": {},
   "source": [
    "## доверительный интервал для разности долей (независимые выборки)\n",
    "\n",
    "В пятилетнем рандомизированном исследовании Гарвардской медицинской школы 11037 испытуемых через день принимали аспирин, а ещё 11034 — плацебо. Исследование было слепым, то есть, испытуемые не знали, что именно они принимают.\n",
    "\n",
    "За 5 лет инфаркт случился у 104 испытуемых, принимавших аспирин, и у 189 принимавших плацебо.\n",
    "\n",
    "Постройте теперь 95% доверительный интервал для снижения вероятности инфаркта при приёме аспирина. Чему равна его верхняя граница?\n",
    "\n",
    "$$\\text{Доверительный интервал для }p_1 - p_2\\colon \\;\\; \\hat{p}_1 - \\hat{p}_2 \\pm z_{1-\\frac{\\alpha}{2}}\\sqrt{\\frac{\\hat{p}_1(1 - \\hat{p}_1)}{n_1} + \\frac{\\hat{p}_2(1 - \\hat{p}_2)}{n_2}}$$"
   ]
  },
  {
   "cell_type": "code",
   "execution_count": 1,
   "metadata": {},
   "outputs": [
    {
     "name": "stdout",
     "output_type": "stream",
     "text": [
      "(0.004687750675049439, 0.010724297276960124)\n"
     ]
    }
   ],
   "source": [
    "#p1 = это доля инфаркников в 1 выборке \n",
    "#p2 = это доля инфаркников в 2 выборке \n",
    "import numpy as np\n",
    "import scipy.stats as st\n",
    "\n",
    "def proportions_confint_diff_ind(cases1, cases2 ,sample1, sample2, alpha = 0.05):    \n",
    "    z = st.norm.ppf(.975)#scipy.stats.norm.ppf((1 - alpha)/ 2)   \n",
    "    p1 = cases1 / sample1\n",
    "    p2 = cases2 / sample2\n",
    "    \n",
    "    left_boundary = abs(p1 - p2) - z * np.sqrt(p1 * (1 - p1)/ sample1 + p2 * (1 - p2)/ sample2)\n",
    "    right_boundary = abs(p1 - p2) + z * np.sqrt(p1 * (1 - p1)/ sample1 + p2 * (1 - p2)/ sample2)\n",
    "    \n",
    "    return (left_boundary, right_boundary)\n",
    "print(proportions_confint_diff_ind(104, 189 ,11037, 11034, alpha = 0.05))"
   ]
  },
  {
   "cell_type": "markdown",
   "metadata": {},
   "source": [
    "Продолжим анализировать данные эксперимента Гарвардской медицинской школы.\n",
    "\n",
    "Для бернуллиевских случайных величин X∼Ber(p) часто вычисляют величину p/(1-p) \n",
    "\n",
    "189/(11034−189) ≈0.0174\n",
    "\n",
    "Для величины, характеризующей во сколько раз понижаются шансы инфаркта при регулярном приёме аспирина надо построить 95% доверительный интервал с помощью бутстрепа. Чему равна его нижняя граница? "
   ]
  },
  {
   "cell_type": "code",
   "execution_count": 2,
   "metadata": {},
   "outputs": [
    {
     "name": "stdout",
     "output_type": "stream",
     "text": [
      "95% confidence interval [1.44419465 2.34321168]\n"
     ]
    }
   ],
   "source": [
    "import numpy as np\n",
    "import pandas as pd\n",
    "np.random.seed(0)\n",
    "\n",
    "\n",
    "def get_bootstrap_samples(data, n_samples):\n",
    "    'n_samples - количество псевдовыборок c возвращением -элементы в псевдовыборке могут повторяться'\n",
    "    'data - pd.Series(генеральной совокупности)'\n",
    "    'функция возвращает список выборок длиной data в количестве n_samples'\n",
    "    indices = np.random.randint(0, len(data), (n_samples, len(data))) \n",
    "    samples = []\n",
    "    for i in indices:\n",
    "        samples.append(data[i])\n",
    "    return samples\n",
    "\n",
    "\n",
    "aspirin_set = [1]*104 +[0]*10933\n",
    "placebo_set = [1]*189+ [0]*10845\n",
    "\n",
    "aspirin_set = pd.Series(aspirin_set, index = range(0, len(aspirin_set)))\n",
    "placebo_set = pd.Series(placebo_set, index = range(0, len(placebo_set)))\n",
    "\n",
    "\n",
    "\n",
    "aspirin_set = list(map(lambda x: (sum(x)/len(x)/(1 - sum(x)/len(x))), get_bootstrap_samples(aspirin_set, 1000)))\n",
    "placebo_boot_set = list(map(lambda x: (sum(x)/len(x)/(1 - sum(x)/len(x))), get_bootstrap_samples(placebo_set, 1000)))\n",
    "infarct_update = [i/j for i,j in zip(placebo_boot_set, aspirin_set)]\n",
    "\n",
    "def stat_intervals(stat, alpha):\n",
    "    'alpha [0,1], stat - список наших статистик из бутстрепа'\n",
    "    boundaries = np.percentile(stat, [100 * alpha / 2., 100 * (1 - alpha / 2.)])\n",
    "    return boundaries\n",
    "\n",
    "print (\"95% confidence interval\",  stat_intervals(infarct_update, 0.05))"
   ]
  },
  {
   "cell_type": "code",
   "execution_count": null,
   "metadata": {
    "collapsed": true
   },
   "outputs": [],
   "source": []
  },
  {
   "cell_type": "code",
   "execution_count": null,
   "metadata": {
    "collapsed": true
   },
   "outputs": [],
   "source": []
  },
  {
   "cell_type": "code",
   "execution_count": null,
   "metadata": {
    "collapsed": true
   },
   "outputs": [],
   "source": []
  }
 ],
 "metadata": {
  "kernelspec": {
   "display_name": "Python 3",
   "language": "python",
   "name": "python3"
  },
  "language_info": {
   "codemirror_mode": {
    "name": "ipython",
    "version": 3
   },
   "file_extension": ".py",
   "mimetype": "text/x-python",
   "name": "python",
   "nbconvert_exporter": "python",
   "pygments_lexer": "ipython3",
   "version": "3.6.2"
  }
 },
 "nbformat": 4,
 "nbformat_minor": 2
}
