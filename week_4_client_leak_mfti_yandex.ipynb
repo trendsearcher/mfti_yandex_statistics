{
 "cells": [
  {
   "cell_type": "markdown",
   "metadata": {},
   "source": [
    "# В этом задании вам предлагается проанализировать данные одной из американских телекоммуникационных компаний о пользователях, которые потенциально могут уйти."
   ]
  },
  {
   "cell_type": "code",
   "execution_count": 1,
   "metadata": {},
   "outputs": [
    {
     "name": "stdout",
     "output_type": "stream",
     "text": [
      "Index(['Unnamed: 0', 'state', 'account_length', 'area_code', 'intl_plan',\n",
      "       'vmail_plan', 'vmail_message', 'day_mins', 'day_calls', 'day_charge',\n",
      "       'eve_mins', 'eve_calls', 'eve_charge', 'night_mins', 'night_calls',\n",
      "       'night_charge', 'intl_mins', 'intl_calls', 'intl_charge',\n",
      "       'custserv_calls', 'treatment', 'mes_estim', 'churn'],\n",
      "      dtype='object')\n",
      "   Unnamed: 0 state  account_length  area_code intl_plan vmail_plan  \\\n",
      "0           0    KS             128        415        no        yes   \n",
      "1           1    OH             107        415        no        yes   \n",
      "2           2    NJ             137        415        no         no   \n",
      "3           3    OH              84        408       yes         no   \n",
      "4           4    OK              75        415       yes         no   \n",
      "5           5    AL             118        510       yes         no   \n",
      "6           6    MA             121        510        no        yes   \n",
      "7           7    MO             147        415       yes         no   \n",
      "8           8    LA             117        408        no         no   \n",
      "9           9    WV             141        415       yes        yes   \n",
      "\n",
      "   vmail_message  day_mins  day_calls  day_charge   ...    night_mins  \\\n",
      "0             25     265.1        110       45.07   ...         244.7   \n",
      "1             26     161.6        123       27.47   ...         254.4   \n",
      "2              0     243.4        114       41.38   ...         162.6   \n",
      "3              0     299.4         71       50.90   ...         196.9   \n",
      "4              0     166.7        113       28.34   ...         186.9   \n",
      "5              0     223.4         98       37.98   ...         203.9   \n",
      "6             24     218.2         88       37.09   ...         212.6   \n",
      "7              0     157.0         79       26.69   ...         211.8   \n",
      "8              0     184.5         97       31.37   ...         215.8   \n",
      "9             37     258.6         84       43.96   ...         326.4   \n",
      "\n",
      "   night_calls  night_charge  intl_mins  intl_calls  intl_charge  \\\n",
      "0           91         11.01       10.0           3         2.70   \n",
      "1          103         11.45       13.7           3         3.70   \n",
      "2          104          7.32       12.2           5         3.29   \n",
      "3           89          8.86        6.6           7         1.78   \n",
      "4          121          8.41       10.1           3         2.73   \n",
      "5          118          9.18        6.3           6         1.70   \n",
      "6          118          9.57        7.5           7         2.03   \n",
      "7           96          9.53        7.1           6         1.92   \n",
      "8           90          9.71        8.7           4         2.35   \n",
      "9           97         14.69       11.2           5         3.02   \n",
      "\n",
      "   custserv_calls  treatment  mes_estim   churn  \n",
      "0               1          1       0.65  False.  \n",
      "1               1          0       0.55  False.  \n",
      "2               0          0       0.72  False.  \n",
      "3               2          1       0.28  False.  \n",
      "4               3          2       0.45  False.  \n",
      "5               0          2       0.60  False.  \n",
      "6               3          0       0.28  False.  \n",
      "7               0          0       0.59  False.  \n",
      "8               1          1       0.50  False.  \n",
      "9               0          2       0.45  False.  \n",
      "\n",
      "[10 rows x 23 columns]\n"
     ]
    }
   ],
   "source": [
    "import pandas as pd\n",
    "import numpy as np\n",
    "\n",
    "data = pd.read_csv('C:\\\\Users\\\\user\\\\Desktop\\\\churn_analysis.csv', sep=\",\", header=0)\n",
    "print(data.columns)\n",
    "print(data.head(10))"
   ]
  },
  {
   "cell_type": "markdown",
   "metadata": {},
   "source": [
    "state — штат США\n",
    "\n",
    "account_length — длительность использования аккаунта\n",
    "\n",
    "area_code — деление пользователей на псевдорегионы, использующееся в телекоме\n",
    "\n",
    "intl_plan — подключена ли у пользователя услуга международного общения\n",
    "\n",
    "vmail_plan — подключена ли у пользователя услуга голосовых сообщений\n",
    "\n",
    "vmail_message — количество голосых сообщений, который пользователь отправил / принял\n",
    "\n",
    "day_calls — сколько пользователь совершил дневных звонков\n",
    "\n",
    "day_mins — сколько пользователь проговорил минут в течение дня\n",
    "\n",
    "day_charge — сколько пользователь заплатил за свою дневную активность\n",
    "\n",
    "eve_calls, eve_mins, eve_charge — аналогичные метрики относительно вечерней активности\n",
    "\n",
    "night_calls, night_mins, night_charge — аналогичные метрики относительно ночной активности\n",
    "\n",
    "intl_calls, intl_mins, intl_charge — аналогичные метрики относительно международного общения\n",
    "\n",
    "custserv_calls — сколько раз пользователь позвонил в службу поддержки\n",
    "\n",
    "treatment — номер стратегии, которая применялись для удержания абонентов (0, 2 = два разных типа воздействия, 1 = контрольная группа)\n",
    "\n",
    "mes_estim — оценка интенсивности пользования интернет мессенджерами\n",
    "\n",
    "churn — результат оттока: перестал ли абонент пользоваться услугами оператора\n",
    "_____________________________________________________________________________________________________________\n",
    "\n",
    "Давайте рассмотрим всех пользователей из контрольной группы (treatment = 1). Для таких пользователей мы хотим проверить гипотезу о том, что штат абонента не влияет на то, перестанет ли абонент пользоваться услугами оператора.\n",
    "\n",
    "Для этого мы воспользуемся критерием хи-квадрат. Постройте таблицы сопряженности между каждой из всех 1275 возможных неупорядоченных пар штатов и значением признака churn. Для каждой такой таблицы 2x2 применить критерий хи-квадрат можно с помощью функции\n",
    "\n",
    "Заметьте, что, например, (AZ, HI) и (HI, AZ) — это одна и та же пара. Обязательно выставьте correction=False (о том, что это значит, вы узнаете из следующих вопросов).\n",
    "\n",
    "Сколько достигаемых уровней значимости оказались меньше, чем \\alpha=0.05?\n",
    "### P.S. бредовое задание. бред полный\n",
    "\n",
    "Какие проблемы Вы видите в построении анализа из первого вопроса? Отметьте все верные утверждения."
   ]
  },
  {
   "cell_type": "code",
   "execution_count": 55,
   "metadata": {},
   "outputs": [
    {
     "name": "stdout",
     "output_type": "stream",
     "text": [
      "<class 'pandas.core.frame.DataFrame'>\n",
      "Int64Index: 1097 entries, 0 to 3330\n",
      "Data columns (total 23 columns):\n",
      "Unnamed: 0        1097 non-null int64\n",
      "state             1097 non-null object\n",
      "account_length    1097 non-null int64\n",
      "area_code         1097 non-null int64\n",
      "intl_plan         1097 non-null object\n",
      "vmail_plan        1097 non-null object\n",
      "vmail_message     1097 non-null int64\n",
      "day_mins          1097 non-null float64\n",
      "day_calls         1097 non-null int64\n",
      "day_charge        1097 non-null float64\n",
      "eve_mins          1097 non-null float64\n",
      "eve_calls         1097 non-null int64\n",
      "eve_charge        1097 non-null float64\n",
      "night_mins        1097 non-null float64\n",
      "night_calls       1097 non-null int64\n",
      "night_charge      1097 non-null float64\n",
      "intl_mins         1097 non-null float64\n",
      "intl_calls        1097 non-null int64\n",
      "intl_charge       1097 non-null float64\n",
      "custserv_calls    1097 non-null int64\n",
      "treatment         1097 non-null int64\n",
      "mes_estim         1097 non-null float64\n",
      "churn             1097 non-null object\n",
      "dtypes: float64(9), int64(10), object(4)\n",
      "memory usage: 205.7+ KB\n",
      "None\n",
      "          churn  people\n",
      "state                  \n",
      "AK     0.950000      20\n",
      "AL     0.833333      30\n",
      "AR     0.687500      16\n",
      "AZ     0.894737      19\n",
      "CA     0.666667      15\n",
      "CO     0.772727      22\n",
      "CT     0.833333      30\n",
      "DC     0.947368      19\n",
      "DE     0.941176      17\n",
      "FL     0.900000      20\n"
     ]
    },
    {
     "name": "stderr",
     "output_type": "stream",
     "text": [
      "C:\\Users\\user\\Anaconda3\\lib\\site-packages\\pandas\\core\\indexing.py:543: SettingWithCopyWarning: \n",
      "A value is trying to be set on a copy of a slice from a DataFrame.\n",
      "Try using .loc[row_indexer,col_indexer] = value instead\n",
      "\n",
      "See the caveats in the documentation: http://pandas.pydata.org/pandas-docs/stable/indexing.html#indexing-view-versus-copy\n",
      "  self.obj[item] = s\n"
     ]
    }
   ],
   "source": [
    "contr_group_df = data[data.treatment == 1]\n",
    "print(contr_group_df.info())\n",
    "contr_group_df.loc[contr_group_df.churn == 'True.', 'churn'] = 0 # ушедшие клиент - 0\n",
    "contr_group_df.loc[contr_group_df.churn == 'False.', 'churn'] = 1 # оставшиеся клиенты - 1\n",
    "contr_group_df2 = contr_group_df.groupby('state')[['churn']].mean()\n",
    "contr_group_df2['people'] = contr_group_df.groupby('state')[['churn']].count()['churn']\n",
    "# получили таблицу со списком доли оставшихся людей и количества людей в i-м штате\n",
    "print(contr_group_df2.head(10))\n"
   ]
  },
  {
   "cell_type": "code",
   "execution_count": 56,
   "metadata": {},
   "outputs": [
    {
     "name": "stdout",
     "output_type": "stream",
     "text": [
      "[('AK', 0.95      , 20) ('AL', 0.83333333, 30) ('AR', 0.6875    , 16)\n",
      " ('AZ', 0.89473684, 19) ('CA', 0.66666667, 15) ('CO', 0.77272727, 22)\n",
      " ('CT', 0.83333333, 30) ('DC', 0.94736842, 19) ('DE', 0.94117647, 17)\n",
      " ('FL', 0.9       , 20) ('GA', 0.9047619 , 21) ('HI', 0.92307692, 13)\n",
      " ('IA', 0.86666667, 15) ('ID', 0.88888889, 18) ('IL', 0.91666667, 12)\n",
      " ('IN', 0.86956522, 23) ('KS', 0.72      , 25) ('KY', 0.84      , 25)\n",
      " ('LA', 1.        , 15) ('MA', 0.70833333, 24) ('MD', 0.79166667, 24)\n",
      " ('ME', 0.71428571, 28) ('MI', 0.77272727, 22) ('MN', 0.9047619 , 21)\n",
      " ('MO', 0.80952381, 21) ('MS', 0.83333333, 24) ('MT', 0.84615385, 26)\n",
      " ('NC', 0.84210526, 19) ('ND', 0.875     , 24) ('NE', 0.875     , 24)\n",
      " ('NH', 0.83333333, 12) ('NJ', 0.83333333, 24) ('NM', 0.93103448, 29)\n",
      " ('NV', 0.75      , 24) ('NY', 0.81818182, 33) ('OH', 0.91666667, 24)\n",
      " ('OK', 0.84615385, 13) ('OR', 0.85714286, 21) ('PA', 0.77777778, 18)\n",
      " ('RI', 0.81818182, 22) ('SC', 0.76190476, 21) ('SD', 0.86956522, 23)\n",
      " ('TN', 0.91666667, 12) ('TX', 0.7       , 20) ('UT', 0.81818182, 22)\n",
      " ('VA', 0.86956522, 23) ('VT', 0.7826087 , 23) ('WA', 0.69565217, 23)\n",
      " ('WI', 0.91666667, 24) ('WV', 0.84375   , 32) ('WY', 0.90909091, 22)]\n",
      "51\n"
     ]
    }
   ],
   "source": [
    "people_matrix = contr_group_df2.to_records() # matrix n*3\n",
    "print(people_matrix)\n",
    "people_matrix = sorted(people_matrix, key=lambda x: x[0])\n",
    "print(len(people_matrix))"
   ]
  },
  {
   "cell_type": "code",
   "execution_count": 57,
   "metadata": {},
   "outputs": [
    {
     "name": "stdout",
     "output_type": "stream",
     "text": [
      "1275\n",
      "(('AK', 0.95, 20), ('AL', 0.83333333, 30))\n"
     ]
    }
   ],
   "source": [
    "from  itertools import combinations\n",
    "c = list(combinations(people_matrix, 2))\n",
    "print(len(c))\n",
    "print(c[0])"
   ]
  },
  {
   "cell_type": "code",
   "execution_count": 58,
   "metadata": {},
   "outputs": [
    {
     "name": "stdout",
     "output_type": "stream",
     "text": [
      "34\n"
     ]
    }
   ],
   "source": [
    "from scipy.stats import chi2_contingency\n",
    "p_val_list = []\n",
    "for i in c:\n",
    "    a1 = i[0][1]*i[0][2]\n",
    "    b1 = i[0][2] - a1\n",
    "    a2 = i[1][1]*i[1][2]\n",
    "    b2 = i[1][2] - a2\n",
    "    p_val_list.append(chi2_contingency([[a1, b1], [a2,b2]], correction=False)[1])\n",
    "print(len([x for x in p_val_list if x < 0.05]))    "
   ]
  },
  {
   "cell_type": "code",
   "execution_count": 59,
   "metadata": {},
   "outputs": [
    {
     "name": "stdout",
     "output_type": "stream",
     "text": [
      "0\n"
     ]
    }
   ],
   "source": [
    "# а теперь посчитаем количество значимых отличий с поправкой Ейтса\n",
    "p_val_list2 = []\n",
    "for i in c:\n",
    "    a1 = i[0][1]*i[0][2]\n",
    "    b1 = i[0][2] - a1\n",
    "    a2 = i[1][1]*i[1][2]\n",
    "    b2 = i[1][2] - a2\n",
    "    p_val_list2.append(chi2_contingency([[a1, b1], [a2,b2]], correction=True)[1])\n",
    "print(len([x for x in p_val_list2 if x < 0.05]))    "
   ]
  },
  {
   "cell_type": "code",
   "execution_count": 60,
   "metadata": {},
   "outputs": [
    {
     "name": "stdout",
     "output_type": "stream",
     "text": [
      "-0.16222925833118895\n"
     ]
    }
   ],
   "source": [
    "print(np.mean(p_val_list) - np.mean(p_val_list2))"
   ]
  },
  {
   "cell_type": "code",
   "execution_count": 62,
   "metadata": {},
   "outputs": [
    {
     "name": "stdout",
     "output_type": "stream",
     "text": [
      "[True, True, True, True, True, True, False, False, True, True, False, True, True, True, True, True, True, True, True, True, True, True, True, True, True, True, True, True, True, True, True, False, True, True, True, True, True, True, True, True, True, True, True, True, True, True, True, True, True, True, True, True, True, True, True, True, True, True, True, True, True, True, True, True, True, False, True, True, True, True, True, True, True, True, False, False, True, True, True, True, True, True, False, True, False, True, True, False, True, True, True, True, False, True, True, True, True, False, True, True]\n"
     ]
    }
   ],
   "source": [
    "print([x<=y for x,y in zip(p_val_list,p_val_list2)][:100])\n",
    "# видно, что поправка Ейтса не всегда увеличивает уровень значимости"
   ]
  },
  {
   "cell_type": "markdown",
   "metadata": {},
   "source": [
    "что если у нас мало данных, мы не хотим использовать аппроксимацию дискретного распределения непрерывным и использовать сомнительную поправку, предположения критерия xи-квадрат не выполняются, а проверить гипотезу о том, что данные принадлежат одному распределению, нужно ?\n",
    "\n",
    "В таком случае прибегают к так называемому точному критерию Фишера. Этот критерий не использует приближений и в точности вычисляет значение достигаемого уровня значимости используя комбинаторный подход."
   ]
  },
  {
   "cell_type": "code",
   "execution_count": 63,
   "metadata": {},
   "outputs": [
    {
     "name": "stdout",
     "output_type": "stream",
     "text": [
      "10\n"
     ]
    }
   ],
   "source": [
    "from scipy.stats import fisher_exact\n",
    "p_val_list3 = []\n",
    "for i in c:\n",
    "    a1 = i[0][1]*i[0][2]\n",
    "    b1 = i[0][2] - a1\n",
    "    a2 = i[1][1]*i[1][2]\n",
    "    b2 = i[1][2] - a2\n",
    "    p_val_list3.append(fisher_exact([[a1, b1], [a2,b2]])[1])   \n",
    "print(len([x for x in p_val_list3 if x < 0.05]))    "
   ]
  },
  {
   "cell_type": "code",
   "execution_count": 66,
   "metadata": {},
   "outputs": [
    {
     "name": "stdout",
     "output_type": "stream",
     "text": [
      "-0.015718332203036645\n",
      "0.1465109261281523\n"
     ]
    }
   ],
   "source": [
    "print(np.mean(p_val_list3) - np.mean(p_val_list2))\n",
    "print(np.mean(p_val_list3) - np.mean(p_val_list))\n",
    "#Точный критерий Фишера на наших данных дает значения достигаемого уровня значимости в среднем больше,\n",
    "#чем xи-квадрат \n",
    "#Точный критерий Фишера на наших данных дает значения достигаемого уровня значимости в среднем меньшие,\n",
    "#чем xи-квадрат с поправкой Йетса"
   ]
  },
  {
   "cell_type": "markdown",
   "metadata": {},
   "source": [
    "### Давайте попробуем применить полученные знания о разных видах корреляции и ее применимости на практике.\n",
    "\n",
    "### Рассмотрим пару признаков day_calls и mes_estim. Посчитайте корреляцию Пирсона между этими признаками на всех данных, ее значимость.\n",
    "\n",
    "так. надо помнить, что корр пирсона имеет смысл для линейной зависимости между нормально распределенными величинами с гомоскедастичностью. В противном случае это теряет смысл."
   ]
  },
  {
   "cell_type": "code",
   "execution_count": 12,
   "metadata": {},
   "outputs": [
    {
     "data": {
      "text/html": [
       "<div>\n",
       "<style scoped>\n",
       "    .dataframe tbody tr th:only-of-type {\n",
       "        vertical-align: middle;\n",
       "    }\n",
       "\n",
       "    .dataframe tbody tr th {\n",
       "        vertical-align: top;\n",
       "    }\n",
       "\n",
       "    .dataframe thead th {\n",
       "        text-align: right;\n",
       "    }\n",
       "</style>\n",
       "<table border=\"1\" class=\"dataframe\">\n",
       "  <thead>\n",
       "    <tr style=\"text-align: right;\">\n",
       "      <th></th>\n",
       "      <th>day_calls</th>\n",
       "      <th>mes_estim</th>\n",
       "    </tr>\n",
       "  </thead>\n",
       "  <tbody>\n",
       "    <tr>\n",
       "      <th>day_calls</th>\n",
       "      <td>1.000000</td>\n",
       "      <td>-0.051794</td>\n",
       "    </tr>\n",
       "    <tr>\n",
       "      <th>mes_estim</th>\n",
       "      <td>-0.051794</td>\n",
       "      <td>1.000000</td>\n",
       "    </tr>\n",
       "  </tbody>\n",
       "</table>\n",
       "</div>"
      ],
      "text/plain": [
       "           day_calls  mes_estim\n",
       "day_calls   1.000000  -0.051794\n",
       "mes_estim  -0.051794   1.000000"
      ]
     },
     "execution_count": 12,
     "metadata": {},
     "output_type": "execute_result"
    }
   ],
   "source": [
    "data[['day_calls', 'mes_estim']].corr(method='pearson')"
   ]
  },
  {
   "cell_type": "code",
   "execution_count": 16,
   "metadata": {},
   "outputs": [
    {
     "data": {
      "image/png": "[encoded data removed]",
      "text/plain": [
       "<matplotlib.figure.Figure at 0x16e78978>"
      ]
     },
     "metadata": {},
     "output_type": "display_data"
    }
   ],
   "source": [
    "# надо убедиться, что нет выбросов. построим картинку\n",
    "import numpy as np\n",
    "import matplotlib.pyplot as plt\n",
    "from matplotlib.ticker import NullFormatter\n",
    "%matplotlib inline\n",
    "\n",
    "x = data['day_calls'].values\n",
    "y = data['mes_estim'].values\n",
    "\n",
    "nullfmt = NullFormatter()         # no labels\n",
    "\n",
    "# definitions for the axes\n",
    "left, width = 0.1, 0.65\n",
    "bottom, height = 0.1, 0.65\n",
    "bottom_h = left_h = left + width + 0.02\n",
    "\n",
    "rect_scatter = [left, bottom, width, height]\n",
    "rect_histx = [left, bottom_h, width, 0.2]\n",
    "rect_histy = [left_h, bottom, 0.2, height]\n",
    "\n",
    "# start with a rectangular Figure\n",
    "plt.figure(1, figsize=(8, 8))\n",
    "\n",
    "axScatter = plt.axes(rect_scatter)\n",
    "axHistx = plt.axes(rect_histx)\n",
    "axHisty = plt.axes(rect_histy)\n",
    "\n",
    "# no labels\n",
    "axHistx.xaxis.set_major_formatter(nullfmt)\n",
    "axHisty.yaxis.set_major_formatter(nullfmt)\n",
    "\n",
    "# the scatter plot:\n",
    "axScatter.scatter(x, y)\n",
    "\n",
    "# # now determine nice limits by hand:\n",
    "# binwidth = 0.1\n",
    "# xymax = np.max([np.max(np.fabs(x)), np.max(np.fabs(y))])\n",
    "# lim = (int(xymax/binwidth) + 1) * binwidth\n",
    "\n",
    "axScatter.set_xlim((-10, 160))\n",
    "axScatter.set_ylim((-0.5, 1.5))\n",
    "\n",
    "bins = np.arange(-lim, lim + binwidth, binwidth)\n",
    "axHistx.hist(x, bins=50)\n",
    "axHisty.hist(y, bins=50, orientation='horizontal')\n",
    "\n",
    "axHistx.set_xlim(axScatter.get_xlim())\n",
    "axHisty.set_ylim(axScatter.get_ylim())\n",
    "\n",
    "plt.show()"
   ]
  },
  {
   "cell_type": "code",
   "execution_count": 18,
   "metadata": {},
   "outputs": [
    {
     "data": {
      "image/png": "[encoded data removed]",
      "text/plain": [
       "<matplotlib.figure.Figure at 0xb5f8668>"
      ]
     },
     "metadata": {},
     "output_type": "display_data"
    },
    {
     "data": {
      "image/png": "[encoded data removed]",
      "text/plain": [
       "<matplotlib.figure.Figure at 0x114ef6d8>"
      ]
     },
     "metadata": {},
     "output_type": "display_data"
    }
   ],
   "source": [
    "import scipy.stats as stats\n",
    "import pylab\n",
    "\n",
    "%matplotlib inline\n",
    "stats.probplot(data['day_calls'].values, dist=\"norm\", plot=pylab)\n",
    "pylab.show()\n",
    "\n",
    "stats.probplot(data['mes_estim'].values, dist=\"norm\", plot=pylab)\n",
    "pylab.show()"
   ]
  },
  {
   "cell_type": "code",
   "execution_count": 26,
   "metadata": {},
   "outputs": [
    {
     "name": "stdout",
     "output_type": "stream",
     "text": [
      "Breusch-Pagan test: p=0.000000\n"
     ]
    },
    {
     "name": "stderr",
     "output_type": "stream",
     "text": [
      "C:\\Users\\user\\Anaconda3\\lib\\site-packages\\ipykernel_launcher.py:8: DeprecationWarning: `het_breushpagan` is deprecated, use `het_breuschpagan` instead!\n",
      "Use het_breuschpagan, het_breushpagan will be removed in 0.9 \n",
      "(Note: misspelling missing 'c')\n",
      "  \n"
     ]
    }
   ],
   "source": [
    "# гетероскедастичность\n",
    "import statsmodels.formula.api as smf\n",
    "import statsmodels.stats.api as sms\n",
    "\n",
    "m1 = smf.ols('day_calls ~ mes_estim',  data=data)\n",
    "fitted = m1.fit()\n",
    "\n",
    "print ('Breusch-Pagan test: p=%f' % sms.het_breushpagan(fitted.resid, fitted.model.exog)[1])"
   ]
  },
  {
   "cell_type": "code",
   "execution_count": 14,
   "metadata": {},
   "outputs": [
    {
     "name": "stdout",
     "output_type": "stream",
     "text": [
      "0.043349880533927444 0.012317367189170541\n"
     ]
    },
    {
     "data": {
      "text/plain": [
       "(0.043349880533927444,\n",
       " 0.012317367189170541,\n",
       " 0.009412229225850447,\n",
       " 0.0771877802164584)"
      ]
     },
     "execution_count": 14,
     "metadata": {},
     "output_type": "execute_result"
    }
   ],
   "source": [
    "# ошибки гетероскедастичны, но все равно посчитаем дов интервал\n",
    "import numpy as np\n",
    "from scipy import stats\n",
    "\n",
    "def pearsonr_ci(x,y,alpha=0.05, type_cor = 'pearson'):\n",
    "    ''' calculate Pearson correlation along with the confidence interval using scipy and numpy\n",
    "    Parameters\n",
    "    ----------\n",
    "    x, y : iterable object such as a list or np.array\n",
    "      Input for correlation calculation\n",
    "    alpha : float\n",
    "      Significance level. 0.05 by default\n",
    "      type_cor = 'pearson', 'spearman'  pearson by default\n",
    "    Returns\n",
    "    -------\n",
    "    r : float\n",
    "      Pearson's correlation coefficient\n",
    "    pval : float\n",
    "      The corresponding p value\n",
    "    lo, hi : float\n",
    "      The lower and upper bound of confidence intervals\n",
    "    '''\n",
    "    if type_cor == 'pearson':\n",
    "        r, p = stats.pearsonr(x,y)\n",
    "        print(r,p)\n",
    "    elif type_cor == 'spearman':\n",
    "        r, p = stats.spearmanr(x,y)\n",
    "        print(r,p)\n",
    "    r_z = np.arctanh(r)\n",
    "    se = 1/np.sqrt(x.size-3)\n",
    "    z = stats.norm.ppf(1-alpha/2)\n",
    "    lo_z, hi_z = r_z-z*se, r_z+z*se\n",
    "    lo, hi = np.tanh((lo_z, hi_z))\n",
    "    return r, p, lo, hi\n",
    "\n",
    "pearsonr_ci(data['day_calls'].values, data['mes_estim'].values, alpha=0.05, type_cor = 'spearman')"
   ]
  },
  {
   "cell_type": "markdown",
   "metadata": {
    "collapsed": true
   },
   "source": [
    "### Посчитайте значение коэффицента корреляции Крамера между двумя признаками: штатом (state) и оттоком пользователей (churn) для всех пользователей, которые находились в контрольной группе (treatment=1). Что можно сказать о достигаемом уровне значимости при проверке гипотезы о равенство нулю этого коэффициента?\n",
    "\n",
    "### P.S. бредовое задание. бред полный"
   ]
  },
  {
   "cell_type": "code",
   "execution_count": 34,
   "metadata": {},
   "outputs": [
    {
     "data": {
      "text/plain": [
       "0.09956204952446517"
      ]
     },
     "execution_count": 34,
     "metadata": {},
     "output_type": "execute_result"
    }
   ],
   "source": [
    "from scipy.stats import chi2_contingency\n",
    "import pandas as pd\n",
    "\n",
    "contr_group_df = data[data.treatment == 1]\n",
    "def cramers_v(x, y):\n",
    "    confusion_matrix = pd.crosstab(x,y)\n",
    "    chi2 = chi2_contingency(confusion_matrix)[0]\n",
    "    n = confusion_matrix.sum().sum()\n",
    "    phi2 = chi2/n\n",
    "    r,k = confusion_matrix.shape\n",
    "    phi2corr = max(0, phi2-((k-1)*(r-1))/(n-1))\n",
    "    rcorr = r-((r-1)**2)/(n-1)\n",
    "    kcorr = k-((k-1)**2)/(n-1)\n",
    "    return np.sqrt(phi2corr/min((kcorr-1),(rcorr-1)))\n",
    "\n",
    "cramers_v(data['state'].values, data['churn'].values)"
   ]
  },
  {
   "cell_type": "markdown",
   "metadata": {},
   "source": [
    "### В этой части задания вам нужно будет самостоятельно решить, с помощью каких методов можно провести анализ эффективности удержания (churn) с помощью раличных методов (treatment = 0, treatment = 2) относительно контрольной группы пользователей (treatment = 1).\n",
    "\n",
    "### Что можно сказать об этих двух методах (treatment = 0, treatment = 2)? Одинаковы ли они с точки зрения эффективности? Каким бы методом вы бы посоветовали воспользоваться компании?\n",
    "\n",
    "### Не забудьте про поправку на множественную проверку! И не пользуйтесь односторонними альтернативами, поскольку вы не знаете, к каким действительно последствиям приводят тестируемые методы (treatment = 0, treatment = 2) !"
   ]
  },
  {
   "cell_type": "code",
   "execution_count": 2,
   "metadata": {
    "collapsed": true
   },
   "outputs": [],
   "source": [
    "data2 = data.copy()\n",
    "data2.loc[data.churn == 'True.', 'churn'] = 0 # ушедшие клиент - 0\n",
    "data2.loc[data.churn == 'False.', 'churn'] = 1 # оставшиеся клиенты - 1\n",
    "\n",
    "contr_group_df = data2[data2.treatment == 1]\n",
    "contr_group = contr_group_df['churn'].values.tolist()\n",
    "strategy1_df = data2[data2.treatment == 0]\n",
    "strategy1 = strategy1_df['churn'].values.tolist()\n",
    "strategy2_df = data2[data2.treatment == 2]\n",
    "strategy2 = strategy2_df['churn'].values.tolist()"
   ]
  },
  {
   "cell_type": "code",
   "execution_count": 3,
   "metadata": {},
   "outputs": [
    {
     "name": "stdout",
     "output_type": "stream",
     "text": [
      "стратегия 0 & котроль 1 0.2517524983193889\n",
      "----------------------------------------------------------------------\n",
      "стратегия 2 & котроль 1 0.011135281386020091\n",
      "----------------------------------------------------------------------\n",
      "стратегия 2 & стратегия 0 0.17528809842137202\n"
     ]
    }
   ],
   "source": [
    "# у меня всего 3 гипотезы. для поправки на множественное сравнение сойдет поправка бонферони. \n",
    "# Поэтому для каждой проверки будем брать 0,0167 и двустороннюю гипотезу\n",
    "from scipy.stats import chi2_contingency\n",
    "\n",
    "print('стратегия 0 & котроль 1', chi2_contingency([[sum(contr_group), len(contr_group) - sum(contr_group)],\n",
    "                 [sum(strategy1), len(strategy1) - sum(strategy1)]])[1])\n",
    "print('----------------------------------------------------------------------')\n",
    "print('стратегия 2 & котроль 1', chi2_contingency([[sum(contr_group), len(contr_group) - sum(contr_group)],\n",
    "                 [sum(strategy2), len(strategy2) - sum(strategy2)]])[1])\n",
    "print('----------------------------------------------------------------------')\n",
    "print('стратегия 2 & стратегия 0', chi2_contingency([[sum(strategy1), len(strategy1) - sum(strategy1)],\n",
    "                 [sum(strategy2), len(strategy2) - sum(strategy2)]])[1])"
   ]
  },
  {
   "cell_type": "code",
   "execution_count": 5,
   "metadata": {},
   "outputs": [
    {
     "name": "stdout",
     "output_type": "stream",
     "text": [
      "доля оставшихся клиентов в стратегии 0. 2. и 1 0.8543689320388349 0.8748866727107888 0.8359161349134002\n"
     ]
    }
   ],
   "source": [
    "print('доля оставшихся клиентов в стратегии 0. 2. и 1', np.mean(strategy1), np.mean(strategy2), np.mean(contr_group))"
   ]
  },
  {
   "cell_type": "code",
   "execution_count": null,
   "metadata": {
    "collapsed": true
   },
   "outputs": [],
   "source": []
  }
 ],
 "metadata": {
  "kernelspec": {
   "display_name": "Python 3",
   "language": "python",
   "name": "python3"
  },
  "language_info": {
   "codemirror_mode": {
    "name": "ipython",
    "version": 3
   },
   "file_extension": ".py",
   "mimetype": "text/x-python",
   "name": "python",
   "nbconvert_exporter": "python",
   "pygments_lexer": "ipython3",
   "version": "3.6.2"
  }
 },
 "nbformat": 4,
 "nbformat_minor": 2
}
