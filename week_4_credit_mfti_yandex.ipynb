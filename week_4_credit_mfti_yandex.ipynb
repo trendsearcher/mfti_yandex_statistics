{
 "cells": [
  {
   "cell_type": "markdown",
   "metadata": {},
   "source": [
    "Для выполнения этого задания вам понадобятся данные о кредитных историях клиентов одного из банков. Поля в предоставляемых данных имеют следующий смысл:\n",
    "\n",
    "LIMIT_BAL: размер кредитного лимита (в том числе и на семью клиента)\n",
    "\n",
    "SEX: пол клиента (1 = мужской, 2 = женский )\n",
    "\n",
    "EDUCATION: образование (0 = доктор, 1 = магистр; 2 = бакалавр; 3 = выпускник школы; 4 = начальное образование; 5= прочее; 6 = нет данных ).\n",
    "\n",
    "MARRIAGE: (0 = отказываюсь отвечать; 1 = замужем/женат; 2 = холост; 3 = нет данных).\n",
    "\n",
    "AGE: возраст в годах\n",
    "\n",
    "PAY_0 - PAY_6 : История прошлых платежей по кредиту. PAY_6 - платеж в апреле, ... Pay_0 - платеж в сентябре. Платеж = (0 =      исправный платеж, 1=задержка в один месяц, 2=задержка в 2 месяца ...)\n",
    "\n",
    "BILL_AMT1 - BILL_AMT6: задолженность, BILL_AMT6 - на апрель, BILL_AMT1 - на сентябрь\n",
    "\n",
    "PAY_AMT1 - PAY_AMT6: сумма уплаченная в PAY_AMT6 - апреле, ..., PAY_AMT1 - сентябре\n",
    "\n",
    "default - индикатор невозврата денежных средств\n"
   ]
  },
  {
   "cell_type": "code",
   "execution_count": 1,
   "metadata": {},
   "outputs": [
    {
     "name": "stdout",
     "output_type": "stream",
     "text": [
      "Index(['ID', 'LIMIT_BAL', 'SEX', 'EDUCATION', 'MARRIAGE', 'AGE', 'PAY_0',\n",
      "       'PAY_2', 'PAY_3', 'PAY_4', 'PAY_5', 'PAY_6', 'BILL_AMT1', 'BILL_AMT2',\n",
      "       'BILL_AMT3', 'BILL_AMT4', 'BILL_AMT5', 'BILL_AMT6', 'PAY_AMT1',\n",
      "       'PAY_AMT2', 'PAY_AMT3', 'PAY_AMT4', 'PAY_AMT5', 'PAY_AMT6', 'default'],\n",
      "      dtype='object')\n"
     ]
    }
   ],
   "source": [
    "import pandas as pd\n",
    "data = pd.read_csv('C:\\\\Users\\\\user\\\\Desktop\\\\credit.csv', sep=\",\", header=0)\n",
    "print(data.columns)"
   ]
  },
  {
   "cell_type": "code",
   "execution_count": 2,
   "metadata": {
    "scrolled": true
   },
   "outputs": [
    {
     "data": {
      "text/html": [
       "<div>\n",
       "<style scoped>\n",
       "    .dataframe tbody tr th:only-of-type {\n",
       "        vertical-align: middle;\n",
       "    }\n",
       "\n",
       "    .dataframe tbody tr th {\n",
       "        vertical-align: top;\n",
       "    }\n",
       "\n",
       "    .dataframe thead th {\n",
       "        text-align: right;\n",
       "    }\n",
       "</style>\n",
       "<table border=\"1\" class=\"dataframe\">\n",
       "  <thead>\n",
       "    <tr style=\"text-align: right;\">\n",
       "      <th></th>\n",
       "      <th>ID</th>\n",
       "      <th>LIMIT_BAL</th>\n",
       "      <th>SEX</th>\n",
       "      <th>EDUCATION</th>\n",
       "      <th>MARRIAGE</th>\n",
       "      <th>AGE</th>\n",
       "      <th>PAY_0</th>\n",
       "      <th>PAY_2</th>\n",
       "      <th>PAY_3</th>\n",
       "      <th>PAY_4</th>\n",
       "      <th>...</th>\n",
       "      <th>BILL_AMT4</th>\n",
       "      <th>BILL_AMT5</th>\n",
       "      <th>BILL_AMT6</th>\n",
       "      <th>PAY_AMT1</th>\n",
       "      <th>PAY_AMT2</th>\n",
       "      <th>PAY_AMT3</th>\n",
       "      <th>PAY_AMT4</th>\n",
       "      <th>PAY_AMT5</th>\n",
       "      <th>PAY_AMT6</th>\n",
       "      <th>default</th>\n",
       "    </tr>\n",
       "  </thead>\n",
       "  <tbody>\n",
       "    <tr>\n",
       "      <th>0</th>\n",
       "      <td>1</td>\n",
       "      <td>20000</td>\n",
       "      <td>2</td>\n",
       "      <td>2</td>\n",
       "      <td>1</td>\n",
       "      <td>24</td>\n",
       "      <td>2</td>\n",
       "      <td>2</td>\n",
       "      <td>0</td>\n",
       "      <td>0</td>\n",
       "      <td>...</td>\n",
       "      <td>0</td>\n",
       "      <td>0</td>\n",
       "      <td>0</td>\n",
       "      <td>0</td>\n",
       "      <td>689</td>\n",
       "      <td>0</td>\n",
       "      <td>0</td>\n",
       "      <td>0</td>\n",
       "      <td>0</td>\n",
       "      <td>1</td>\n",
       "    </tr>\n",
       "    <tr>\n",
       "      <th>1</th>\n",
       "      <td>2</td>\n",
       "      <td>120000</td>\n",
       "      <td>2</td>\n",
       "      <td>2</td>\n",
       "      <td>2</td>\n",
       "      <td>26</td>\n",
       "      <td>0</td>\n",
       "      <td>2</td>\n",
       "      <td>0</td>\n",
       "      <td>0</td>\n",
       "      <td>...</td>\n",
       "      <td>3272</td>\n",
       "      <td>3455</td>\n",
       "      <td>3261</td>\n",
       "      <td>0</td>\n",
       "      <td>1000</td>\n",
       "      <td>1000</td>\n",
       "      <td>1000</td>\n",
       "      <td>0</td>\n",
       "      <td>2000</td>\n",
       "      <td>1</td>\n",
       "    </tr>\n",
       "    <tr>\n",
       "      <th>2</th>\n",
       "      <td>3</td>\n",
       "      <td>90000</td>\n",
       "      <td>2</td>\n",
       "      <td>2</td>\n",
       "      <td>2</td>\n",
       "      <td>34</td>\n",
       "      <td>0</td>\n",
       "      <td>0</td>\n",
       "      <td>0</td>\n",
       "      <td>0</td>\n",
       "      <td>...</td>\n",
       "      <td>14331</td>\n",
       "      <td>14948</td>\n",
       "      <td>15549</td>\n",
       "      <td>1518</td>\n",
       "      <td>1500</td>\n",
       "      <td>1000</td>\n",
       "      <td>1000</td>\n",
       "      <td>1000</td>\n",
       "      <td>5000</td>\n",
       "      <td>0</td>\n",
       "    </tr>\n",
       "    <tr>\n",
       "      <th>3</th>\n",
       "      <td>4</td>\n",
       "      <td>50000</td>\n",
       "      <td>2</td>\n",
       "      <td>2</td>\n",
       "      <td>1</td>\n",
       "      <td>37</td>\n",
       "      <td>0</td>\n",
       "      <td>0</td>\n",
       "      <td>0</td>\n",
       "      <td>0</td>\n",
       "      <td>...</td>\n",
       "      <td>28314</td>\n",
       "      <td>28959</td>\n",
       "      <td>29547</td>\n",
       "      <td>2000</td>\n",
       "      <td>2019</td>\n",
       "      <td>1200</td>\n",
       "      <td>1100</td>\n",
       "      <td>1069</td>\n",
       "      <td>1000</td>\n",
       "      <td>0</td>\n",
       "    </tr>\n",
       "    <tr>\n",
       "      <th>4</th>\n",
       "      <td>5</td>\n",
       "      <td>50000</td>\n",
       "      <td>1</td>\n",
       "      <td>2</td>\n",
       "      <td>1</td>\n",
       "      <td>57</td>\n",
       "      <td>0</td>\n",
       "      <td>0</td>\n",
       "      <td>0</td>\n",
       "      <td>0</td>\n",
       "      <td>...</td>\n",
       "      <td>20940</td>\n",
       "      <td>19146</td>\n",
       "      <td>19131</td>\n",
       "      <td>2000</td>\n",
       "      <td>36681</td>\n",
       "      <td>10000</td>\n",
       "      <td>9000</td>\n",
       "      <td>689</td>\n",
       "      <td>679</td>\n",
       "      <td>0</td>\n",
       "    </tr>\n",
       "  </tbody>\n",
       "</table>\n",
       "<p>5 rows × 25 columns</p>\n",
       "</div>"
      ],
      "text/plain": [
       "   ID  LIMIT_BAL  SEX  EDUCATION  MARRIAGE  AGE  PAY_0  PAY_2  PAY_3  PAY_4  \\\n",
       "0   1      20000    2          2         1   24      2      2      0      0   \n",
       "1   2     120000    2          2         2   26      0      2      0      0   \n",
       "2   3      90000    2          2         2   34      0      0      0      0   \n",
       "3   4      50000    2          2         1   37      0      0      0      0   \n",
       "4   5      50000    1          2         1   57      0      0      0      0   \n",
       "\n",
       "    ...     BILL_AMT4  BILL_AMT5  BILL_AMT6  PAY_AMT1  PAY_AMT2  PAY_AMT3  \\\n",
       "0   ...             0          0          0         0       689         0   \n",
       "1   ...          3272       3455       3261         0      1000      1000   \n",
       "2   ...         14331      14948      15549      1518      1500      1000   \n",
       "3   ...         28314      28959      29547      2000      2019      1200   \n",
       "4   ...         20940      19146      19131      2000     36681     10000   \n",
       "\n",
       "   PAY_AMT4  PAY_AMT5  PAY_AMT6  default  \n",
       "0         0         0         0        1  \n",
       "1      1000         0      2000        1  \n",
       "2      1000      1000      5000        0  \n",
       "3      1100      1069      1000        0  \n",
       "4      9000       689       679        0  \n",
       "\n",
       "[5 rows x 25 columns]"
      ]
     },
     "execution_count": 2,
     "metadata": {},
     "output_type": "execute_result"
    }
   ],
   "source": [
    "data.head(5)"
   ]
  },
  {
   "cell_type": "markdown",
   "metadata": {},
   "source": [
    "# задание 1\n",
    "Размер кредитного лимита (LIMIT_BAL). В двух группах, тех людей, кто вернул кредит (default = 0) и тех, кто его не вернул (default = 1) проверьте гипотезы: a) о равенстве медианных значений кредитного лимита с помощью подходящей интервальной оценки b) о равенстве распределений с помощью одного из подходящих непараметрических критериев проверки равенства средних. Значимы ли полученные результаты с практической точки зрения ?"
   ]
  },
  {
   "cell_type": "code",
   "execution_count": 3,
   "metadata": {
    "collapsed": true
   },
   "outputs": [],
   "source": [
    "positive_return_LB_list = data[data.default == 0]['LIMIT_BAL'].values.tolist()\n",
    "negative_return_LB_list = data[data.default == 1]['LIMIT_BAL'].values.tolist()\n",
    "# проверяем гипотезу о равенстве медиан. но сначала посмотрим на форму распределений LB:"
   ]
  },
  {
   "cell_type": "code",
   "execution_count": 4,
   "metadata": {},
   "outputs": [
    {
     "data": {
      "text/plain": [
       "<matplotlib.text.Text at 0xb5587b8>"
      ]
     },
     "execution_count": 4,
     "metadata": {},
     "output_type": "execute_result"
    },
    {
     "data": {
      "image/png": "[encoded data removed]",
      "text/plain": [
       "<matplotlib.figure.Figure at 0xb4d1780>"
      ]
     },
     "metadata": {},
     "output_type": "display_data"
    }
   ],
   "source": [
    "import matplotlib.pyplot as plt\n",
    "import numpy as np\n",
    "%matplotlib inline\n",
    "plt.hist(positive_return_LB_list, normed=True, bins=30)\n",
    "plt.hist(negative_return_LB_list, normed=True, bins=30)\n",
    "plt.ylabel('LIMIT_BAL')"
   ]
  },
  {
   "cell_type": "code",
   "execution_count": 5,
   "metadata": {},
   "outputs": [
    {
     "name": "stdout",
     "output_type": "stream",
     "text": [
      "one-sided MannwhitneyuResult(statistic=59257217.5, pvalue=6.127742909111652e-190)\n",
      "two-sided MannwhitneyuResult(statistic=59257217.5, pvalue=1.2255485818223303e-189)\n",
      "1.6666666666666667\n"
     ]
    }
   ],
   "source": [
    "# критерий Манна-Уитни должен решить задачу\n",
    "from scipy.stats import mannwhitneyu\n",
    "\n",
    "print('one-sided', mannwhitneyu(negative_return_LB_list, positive_return_LB_list, use_continuity=True, alternative='less'))\n",
    "print('two-sided', mannwhitneyu(negative_return_LB_list, positive_return_LB_list, use_continuity=True, alternative='two-sided'))\n",
    "print(np.median(positive_return_LB_list)/np.median(negative_return_LB_list))"
   ]
  },
  {
   "cell_type": "markdown",
   "metadata": {},
   "source": [
    "### 1а. \n",
    "Если принять за истину предположение о том, что платежеспособность меньше у категории людей, которые не вернули кредит (default = 1),  то можно смело отвергать гипотезу о равенстве медиан в 2 группах на уровне значимости 6,12*10^-190. В случае отсутствия исходных предположений мы так же можем отвегнуть гипотезу на уровне значимости 1,22*10^-189.\n",
    "С практической точки зрения различие медиан в 1,67 раз, что значительно."
   ]
  },
  {
   "cell_type": "code",
   "execution_count": 6,
   "metadata": {},
   "outputs": [
    {
     "name": "stdout",
     "output_type": "stream",
     "text": [
      "p-value: 0.001000\n",
      "1.3688432586435533\n"
     ]
    }
   ],
   "source": [
    "#теперь проверим гипотезу о равенстве распределений (визуально они отличаются)\n",
    "from scipy import stats\n",
    "\n",
    "# воспользуемся перестановочным критерием для определения смещенности распределения 2х выборок.\n",
    "# для упрощения в ущерб точности возьмем 1000 перестановок\n",
    "np.random.seed(0)\n",
    "\n",
    "def permutation_t_stat_ind(sample1, sample2):\n",
    "    return np.mean(sample1) - np.mean(sample2)\n",
    "\n",
    "def get_random_combinations(n1, n2, max_combinations):\n",
    "    index = list(range(n1 + n2))\n",
    "    indices = set([tuple(index)])\n",
    "    for i in range(max_combinations - 1):\n",
    "        np.random.shuffle(index)\n",
    "        indices.add(tuple(index))\n",
    "    return [(index[:n1], index[n1:]) for index in indices]\n",
    "\n",
    "def permutation_zero_dist_ind(sample1, sample2, max_combinations = None):\n",
    "    joined_sample = np.hstack((sample1, sample2))\n",
    "    n1 = len(sample1)\n",
    "    n = len(joined_sample)\n",
    "    \n",
    "    if max_combinations:\n",
    "        indices = get_random_combinations(n1, len(sample2), max_combinations)\n",
    "    else:\n",
    "        indices = [(list(index), filter(lambda i: i not in index, range(n))) \\\n",
    "                    for index in itertools.combinations(range(n), n1)]\n",
    "    \n",
    "    distr = [joined_sample[list(i[0])].mean() - joined_sample[list(i[1])].mean() \\\n",
    "             for i in indices]\n",
    "    return distr\n",
    "\n",
    "def permutation_test(sample, mean, max_permutations = None, alternative = 'two-sided'):\n",
    "    if alternative not in ('two-sided', 'less', 'greater'):\n",
    "        raise ValueError(\"alternative not recognized\\n\"\n",
    "                         \"should be 'two-sided', 'less' or 'greater'\")\n",
    "    \n",
    "    t_stat = permutation_t_stat_ind(sample, mean)\n",
    "    \n",
    "    zero_distr = permutation_zero_dist_ind(sample, mean, max_permutations)\n",
    "    \n",
    "    if alternative == 'two-sided':\n",
    "        return sum([1. if abs(x) >= abs(t_stat) else 0. for x in zero_distr]) / len(zero_distr)\n",
    "    \n",
    "    if alternative == 'less':\n",
    "        return sum([1. if x <= t_stat else 0. for x in zero_distr]) / len(zero_distr)\n",
    "\n",
    "    if alternative == 'greater':\n",
    "        return sum([1. if x >= t_stat else 0. for x in zero_distr]) / len(zero_distr)\n",
    "    \n",
    "print (\"p-value: %f\" % permutation_test(positive_return_LB_list, negative_return_LB_list, max_permutations = 1000))\n",
    "print(np.mean(positive_return_LB_list)/np.mean(negative_return_LB_list))"
   ]
  },
  {
   "cell_type": "markdown",
   "metadata": {},
   "source": [
    "### 1b.\n",
    "И правда, гипотезу о равенстве распределений можно уверенно отвергнуть на уровне значтмости 0.001. Смещение между средними в 1,36 раз, что значимо."
   ]
  },
  {
   "cell_type": "markdown",
   "metadata": {},
   "source": [
    "# задание 2\n",
    "Пол (SEX): Проверьте гипотезу о том, что гендерный состав группы людей вернувших и не вернувших кредит отличается. Хорошо, если вы предоставите несколько различных решений этой задачи (с помощью доверительного интервала и подходящего статистического критерия)"
   ]
  },
  {
   "cell_type": "code",
   "execution_count": 29,
   "metadata": {
    "collapsed": true
   },
   "outputs": [],
   "source": [
    "import scipy\n",
    "\n",
    "# женщина - 1; мужчина - 0\n",
    "positive_return_SEX_list = data[data.default == 0]['SEX'].values.tolist()\n",
    "positive_return_SEX_list = [1 if x == 2 else 0 for x in positive_return_SEX_list]\n",
    "negative_return_SEX_list = data[data.default == 1]['SEX'].values.tolist()\n",
    "negative_return_SEX_list = [1 if x == 2 else 0 for x in negative_return_SEX_list]\n",
    "# У нас бинарные данные. и распределение соответствующее, что очевидно."
   ]
  },
  {
   "cell_type": "code",
   "execution_count": 33,
   "metadata": {},
   "outputs": [
    {
     "name": "stdout",
     "output_type": "stream",
     "text": [
      "p_value sex distrib добросовестные должники 4.8083897998530436e-269\n",
      "p_value sex distrib недобросовестные должники 8.3397366690338e-28\n",
      "95 дов инт пол добросовестные должники (0.607889734030124, 0.6203726841910749)\n",
      "95 дов инт пол недобросовестные должники (0.5551017630282817, 0.578937581965066)\n"
     ]
    }
   ],
   "source": [
    "#для начала посмотрим на то, что нам даст биномиальный критерий и доверительные интервалы 2 наборов данных\n",
    "import scipy\n",
    "from statsmodels.stats.proportion import proportion_confint\n",
    "\n",
    "p_value = scipy.stats.binom_test(sum(positive_return_SEX_list), n=len(positive_return_SEX_list), p=0.5, alternative='two-sided')\n",
    "print('p_value sex distrib добросовестные должники', p_value)\n",
    "p_value = scipy.stats.binom_test(sum(negative_return_SEX_list), n=len(negative_return_SEX_list), p=0.5, alternative='two-sided')\n",
    "print('p_value sex distrib недобросовестные должники', p_value)\n",
    "\n",
    "print('95 дов инт пол добросовестные должники', proportion_confint(sum(positive_return_SEX_list), len(positive_return_SEX_list), method = 'wilson'))\n",
    "print('95 дов инт пол недобросовестные должники', proportion_confint(sum(negative_return_SEX_list), len(negative_return_SEX_list), method = 'wilson'))\n",
    "\n",
    "# уже понятно, что доля женщин среди добросовестных заемщиков больше, также ясно, что в целом щенщины чаще берут кредит,\n",
    "# и с высоким уровнем значимости можно отвергнуть гипотезу о том, что распределение полов равномерно 50/50 среди заемщиков.\n",
    "# НО! нас просят посчитать то как гендерный состав группы людей вернувших и не вернувших кредит отличается."
   ]
  },
  {
   "cell_type": "code",
   "execution_count": 36,
   "metadata": {},
   "outputs": [
    {
     "name": "stdout",
     "output_type": "stream",
     "text": [
      "95%% confidence interval for a difference between proportions (0.03363493274962867, 0.060548077974896725)\n",
      "p-value:  4.472866521609831e-12\n",
      "p-value:  2.2364332608049153e-12\n"
     ]
    }
   ],
   "source": [
    "#нужен Z-критерий для разности долей (независимые выборки)\n",
    "import scipy\n",
    "from statsmodels.stats.weightstats import *\n",
    "from statsmodels.stats.proportion import proportion_confint\n",
    "\n",
    "def proportions_diff_confint_ind(sample1, sample2, alpha = 0.05):    \n",
    "    z = scipy.stats.norm.ppf(1 - alpha / 2.)\n",
    "    \n",
    "    p1 = float(sum(sample1)) / len(sample1)\n",
    "    p2 = float(sum(sample2)) / len(sample2)\n",
    "    \n",
    "    left_boundary = (p1 - p2) - z * np.sqrt(p1 * (1 - p1)/ len(sample1) + p2 * (1 - p2)/ len(sample2))\n",
    "    right_boundary = (p1 - p2) + z * np.sqrt(p1 * (1 - p1)/ len(sample1) + p2 * (1 - p2)/ len(sample2))\n",
    "    \n",
    "    return (left_boundary, right_boundary)\n",
    "def proportions_diff_z_stat_ind(sample1, sample2):\n",
    "    n1 = len(sample1)\n",
    "    n2 = len(sample2)\n",
    "    \n",
    "    p1 = float(sum(sample1)) / n1\n",
    "    p2 = float(sum(sample2)) / n2 \n",
    "    P = float(p1*n1 + p2*n2) / (n1 + n2)\n",
    "    \n",
    "    return (p1 - p2) / np.sqrt(P * (1 - P) * (1. / n1 + 1. / n2))\n",
    "def proportions_diff_z_test(z_stat, alternative = 'two-sided'):\n",
    "    if alternative not in ('two-sided', 'less', 'greater'):\n",
    "        raise ValueError(\"alternative not recognized\\n\"\n",
    "                         \"should be 'two-sided', 'less' or 'greater'\")\n",
    "    \n",
    "    if alternative == 'two-sided':\n",
    "        return 2 * (1 - scipy.stats.norm.cdf(np.abs(z_stat)))\n",
    "    \n",
    "    if alternative == 'less':\n",
    "        return scipy.stats.norm.cdf(z_stat)\n",
    "\n",
    "    if alternative == 'greater':\n",
    "        return 1 - scipy.stats.norm.cdf(z_stat)\n",
    "  \n",
    "print (\"95%% confidence interval for a difference between proportions\", proportions_diff_confint_ind(positive_return_SEX_list, negative_return_SEX_list))\n",
    "print (\"p-value: \", proportions_diff_z_test(proportions_diff_z_stat_ind(positive_return_SEX_list, negative_return_SEX_list)))\n",
    "print (\"p-value: \", proportions_diff_z_test(proportions_diff_z_stat_ind(positive_return_SEX_list, negative_return_SEX_list), 'greater'))"
   ]
  },
  {
   "cell_type": "markdown",
   "metadata": {
    "collapsed": true
   },
   "source": [
    "### 2.\n",
    "Мы приняли обозначения (женщины - 1, мужчины - 0). По 95% доверительному интервалу мы получаем вывод, что гендерный состав группы людей вернувших и не вернувших кредит отличается и доля женщин среди полностью вернувших долг по кредиту больше доли женщин среди недобросовестных заемщиков на [3.36%, 6.05%] (при не более 5% вероятности ошибки первого рода). При двусторонней альтернативе на уровне значимости 4,47*10^-12 отвергаем гипотезу о равном гендерном составе среди рассматриваемых групп должников"
   ]
  },
  {
   "cell_type": "markdown",
   "metadata": {},
   "source": [
    "# задание 3\n",
    "Образование (EDUCATION): Проверьте гипотезу о том, что образование не влияет на то, вернет ли человек долг. Предложите способ наглядного представления разницы в ожидаемых и наблюдаемых значениях количества человек вернувших и не вернувших долг. Например, составьте таблицу сопряженности \"образование\" на \"возврат долга\", где значением ячейки была бы разность между наблюдаемым и ожидаемым количеством человек. Как бы вы предложили модифицировать таблицу так, чтобы привести значения ячеек к одному масштабу не потеряв в интерпретируемости ? Наличие какого образования является наилучшим индикатором того, что человек отдаст долг ? наоборт, не отдаст долг ?\n",
    "\n",
    "EDUCATION:\n",
    "\n",
    "0 = доктор, 1 = магистр; 2 = бакалавр; 3 = выпускник школы; 4 = начальное образование; 5= прочее; 6 = нет данных"
   ]
  },
  {
   "cell_type": "code",
   "execution_count": 39,
   "metadata": {},
   "outputs": [
    {
     "data": {
      "image/png": "[encoded data removed]",
      "text/plain": [
       "<matplotlib.figure.Figure at 0xd3a00f0>"
      ]
     },
     "metadata": {},
     "output_type": "display_data"
    }
   ],
   "source": [
    "import matplotlib.pyplot as plt\n",
    "import numpy as np\n",
    "\n",
    "positive_return_EDU_list = data[data.default == 0]['EDUCATION'].values.tolist()\n",
    "negative_return_EDU_list = data[data.default == 1]['EDUCATION'].values.tolist()\n",
    "\n",
    "%matplotlib inline\n",
    "plt.hist(positive_return_EDU_list, 7, alpha=0.5, label='positive_return_EDU_list')\n",
    "plt.hist(negative_return_EDU_list, 7, alpha=0.5, label='negative_return_EDU_list')\n",
    "plt.legend(loc='upper right')\n",
    "plt.show()\n"
   ]
  },
  {
   "cell_type": "code",
   "execution_count": 52,
   "metadata": {},
   "outputs": [
    {
     "name": "stdout",
     "output_type": "stream",
     "text": [
      "[14, 8549, 10700, 3680, 116, 262, 43] [0, 2036, 3330, 1237, 7, 18, 8]\n"
     ]
    }
   ],
   "source": [
    "# соберем таблицу сопряженности\n",
    "def _constuct_list (aa):\n",
    "    doctors = 0\n",
    "    mags = 0\n",
    "    bachs = 0\n",
    "    schools = 0\n",
    "    start_ed = 0\n",
    "    other = 0\n",
    "    empt = 0\n",
    "    for i in aa:\n",
    "        if i == 0:\n",
    "            doctors += 1\n",
    "        if i == 1:\n",
    "            mags += 1\n",
    "        if i == 2:\n",
    "            bachs += 1\n",
    "        if i == 3:\n",
    "            schools += 1\n",
    "        if i == 4:\n",
    "            start_ed += 1\n",
    "        if i == 5:\n",
    "            other += 1\n",
    "        if i == 6:\n",
    "            empt += 1 \n",
    "    return([doctors, mags, bachs, schools, start_ed, other, empt])\n",
    "    \n",
    "pos_edu_pop = _constuct_list(positive_return_EDU_list)\n",
    "neg_edu_pop = _constuct_list(negative_return_EDU_list)\n",
    "#найдем распределение людей по образовательному статусу среди всех заемщиков\n",
    "all_edu_pop = np.array(pos_edu_pop) + np.array(neg_edu_pop)\n",
    "\n",
    "print(pos_edu_pop, neg_edu_pop)"
   ]
  },
  {
   "cell_type": "code",
   "execution_count": 44,
   "metadata": {
    "scrolled": true
   },
   "outputs": [
    {
     "data": {
      "text/plain": [
       "(163.21655786997073,\n",
       " 1.2332626245415605e-32,\n",
       " 6,\n",
       " array([[1.0903200e+01, 8.2435980e+03, 1.0926564e+04, 3.8293596e+03,\n",
       "         9.5792400e+01, 2.1806400e+02, 3.9718800e+01],\n",
       "        [3.0968000e+00, 2.3414020e+03, 3.1034360e+03, 1.0876404e+03,\n",
       "         2.7207600e+01, 6.1936000e+01, 1.1281200e+01]]))"
      ]
     },
     "execution_count": 44,
     "metadata": {},
     "output_type": "execute_result"
    }
   ],
   "source": [
    "import numpy as np\n",
    "from scipy.stats import chi2_contingency\n",
    "\n",
    "'''\n",
    "На лекции вроде бы говорили про 5 единиц в ожидаемых величинах.\n",
    "\n",
    "An often quoted guideline for the validity of this calculation \n",
    "is that the test should be used only if the observed and expected \n",
    "frequency in each cell is at least 5.\n",
    "\n",
    "return:\n",
    "(The test statistic, The p-value of the test, Degrees of freedom,\n",
    "expected : ndarray)\n",
    "\n",
    "The expected frequencies, based on the marginal sums of the table.'''\n",
    "observed_cons_table = np.array([pos_edu_pop, neg_edu_pop])\n",
    "expected_cons_table = chi2_contingency(observed_cons_table)[3]\n",
    "\n",
    "chi2_contingency(observed_cons_table)"
   ]
  },
  {
   "cell_type": "code",
   "execution_count": 56,
   "metadata": {},
   "outputs": [
    {
     "data": {
      "text/plain": [
       "<matplotlib.text.Text at 0xd805048>"
      ]
     },
     "execution_count": 56,
     "metadata": {},
     "output_type": "execute_result"
    },
    {
     "data": {
      "image/png": "[encoded data removed]",
      "text/plain": [
       "<matplotlib.figure.Figure at 0xd805c50>"
      ]
     },
     "metadata": {},
     "output_type": "display_data"
    },
    {
     "data": {
      "image/png": "[encoded data removed]",
      "text/plain": [
       "<matplotlib.figure.Figure at 0xd452550>"
      ]
     },
     "metadata": {},
     "output_type": "display_data"
    }
   ],
   "source": [
    "# количество людей среди 2 групп должников отличается очень сильно, для адекватной визуализации\n",
    "# нам нужно нормировать полученные различия между этими группами на что-то, что даст хорошую взвешенную картину\n",
    "# вычтем наблюдаемые значения из предполагаемых и нормируем результат поэлементно на распределение по образованию среди всех должников \n",
    "\n",
    "import matplotlib.pyplot as plt\n",
    "import seaborn as sn\n",
    "import pandas as pd\n",
    "\n",
    "conf_arr = observed_cons_table - expected_cons_table\n",
    "\n",
    "df_cm = pd.DataFrame(conf_arr, \n",
    "                  index = ['добросовестные', 'недобросовестные'],\n",
    "                  columns = ['доктор', 'магистр', 'бакалавр', 'выпускник школы', 'начальное образование', 'прочее', 'нет данных'])\n",
    "\n",
    "%matplotlib inline\n",
    "fig = plt.figure()\n",
    "plt.clf()\n",
    "ax = fig.add_subplot(111)\n",
    "ax.set_aspect(1)\n",
    "res = sn.heatmap(df_cm, annot=True, vmin=0.0, vmax=100.0, fmt='.2f')\n",
    "plt.title('''разница между \n",
    "            наблюдаемыми значениями \n",
    "            и предполагаемыми''')\n",
    "\n",
    "df_cm = pd.DataFrame(conf_arr/all_edu_pop, \n",
    "                  index = ['добросовестные', 'недобросовестные'],\n",
    "                  columns = ['доктор', 'магистр', 'бакалавр', 'выпускник школы', 'начальное образование', 'прочее', 'нет данных'])\n",
    "\n",
    "fig = plt.figure()\n",
    "plt.clf()\n",
    "ax = fig.add_subplot(111)\n",
    "ax.set_aspect(1)\n",
    "res = sn.heatmap(df_cm, annot=True, vmin=0.0, vmax=100.0, fmt='.2f')\n",
    "plt.title('''нормированная разница \n",
    "            между наблюдаемыми значениями \n",
    "            и предполагаемыми''')"
   ]
  },
  {
   "cell_type": "markdown",
   "metadata": {},
   "source": [
    "### 3\n",
    "По результатам хи квадрат можем отвергнуть нулевую гипотезу о невлиянии образования на платежеспособность с достигаемым уровнем значимости в 1,2*10^-32. Также можно утверждать, что доктора наук являются самыми добросовестными заемщиками, а люди, получившие только начальное образование чаще остальных долг не возвращают."
   ]
  },
  {
   "cell_type": "markdown",
   "metadata": {},
   "source": [
    "# задание 4\n",
    "Семейное положение (MARRIAGE): Проверьте, как связан семейный статус с индикатором дефолта: нужно предложить меру, по которой можно измерить возможную связь этих переменных и посчитать ее значение.\n",
    "\n",
    "MARRIAGE: (0 = отказываюсь отвечать; 1 = замужем/женат; 2 = холост; 3 = нет данных)."
   ]
  },
  {
   "cell_type": "code",
   "execution_count": 104,
   "metadata": {},
   "outputs": [
    {
     "data": {
      "image/png": "[encoded data removed]",
      "text/plain": [
       "<matplotlib.figure.Figure at 0xd8e4f60>"
      ]
     },
     "metadata": {},
     "output_type": "display_data"
    }
   ],
   "source": [
    "# поступим аналогично\n",
    "positive_return_MAR_list = data[data.default == 0]['MARRIAGE'].values.tolist()\n",
    "negative_return_MAR_list = data[data.default == 1]['MARRIAGE'].values.tolist()\n",
    "\n",
    "%matplotlib inline\n",
    "plt.hist(positive_return_MAR_list, 4, alpha=0.5, label='pos_ret')\n",
    "plt.hist(negative_return_MAR_list, 4, alpha=0.5, label='neg_ret')\n",
    "plt.legend(loc='upper left')\n",
    "plt.show()"
   ]
  },
  {
   "cell_type": "markdown",
   "metadata": {},
   "source": [
    "У нас крайне мало тех, кто отказался отвечать на вопрос о семейном положении и тех, о ком нет данных. Уберем эти категории"
   ]
  },
  {
   "cell_type": "code",
   "execution_count": 105,
   "metadata": {},
   "outputs": [
    {
     "name": "stdout",
     "output_type": "stream",
     "text": [
      "(0.015928989280945424, 0.03493830824728596)\n"
     ]
    }
   ],
   "source": [
    "import math\n",
    "\n",
    "positive_return_MAR_list = [x for x in positive_return_MAR_list if (x != 0 and x != 3)]\n",
    "negative_return_MAR_list = [x for x in negative_return_MAR_list if (x != 0 and x != 3)]\n",
    "\n",
    "# сменим кодировку. примем за 0 семейных и за 1 холостых людей\n",
    "positive_return_MAR_list = np.array(positive_return_MAR_list)-1\n",
    "negative_return_MAR_list = np.array(negative_return_MAR_list)-1\n",
    "\n",
    "single_pos = sum(positive_return_MAR_list)\n",
    "family_pos = len(positive_return_MAR_list) - single_pos\n",
    "\n",
    "single_neg = sum(negative_return_MAR_list)\n",
    "family_neg = len(negative_return_MAR_list) - single_neg\n",
    "\n",
    "#применим доверительный интервал для разноти долей одиноких людей в группе добросовестных и недобросовестных должников\n",
    " \n",
    "import scipy.stats as st\n",
    "\n",
    "def proportions_confint_diff_ind(cases1, cases2 ,sample1, sample2, alpha = 0.05):    \n",
    "    z = st.norm.ppf(.975)#scipy.stats.norm.ppf((1 - alpha)/ 2)   \n",
    "    p1 = cases1 / sample1\n",
    "    p2 = cases2 / sample2\n",
    "    \n",
    "    left_boundary = abs(p1 - p2) - z * np.sqrt(p1 * (1 - p1)/ sample1 + p2 * (1 - p2)/ sample2)\n",
    "    right_boundary = abs(p1 - p2) + z * np.sqrt(p1 * (1 - p1)/ sample1 + p2 * (1 - p2)/ sample2)\n",
    "    \n",
    "    return (left_boundary, right_boundary)\n",
    "print(proportions_confint_diff_ind(single_pos, family_pos ,single_pos+single_neg, family_pos+family_neg, alpha = 0.05))"
   ]
  },
  {
   "cell_type": "markdown",
   "metadata": {},
   "source": [
    "### 4\n",
    "95% доверительный интервал разности долей между добросовестными одиночками и добросовестными семьянинами не содержит ноль: [0.016, 0.035]. То есть можно полагать, что одинокие люди будут более добросовестными плательщиками. "
   ]
  },
  {
   "cell_type": "markdown",
   "metadata": {},
   "source": [
    "# задание 5\n",
    "Возраст (AGE): Относительно двух групп людей вернувших и не вернувших кредит проверьте следующие гипотезы: a) о равенстве медианных значений возрастов людей b) о равенстве распределений с помощью одного из подходящих непараметрических критериев проверки равенства средних. Значимы ли полученные результаты с практической точки зрения ?"
   ]
  },
  {
   "cell_type": "code",
   "execution_count": 7,
   "metadata": {},
   "outputs": [
    {
     "data": {
      "image/png": "[encoded data removed]",
      "text/plain": [
       "<matplotlib.figure.Figure at 0xb9dbdd8>"
      ]
     },
     "metadata": {},
     "output_type": "display_data"
    }
   ],
   "source": [
    "positive_return_AGE_list = data[data.default == 0]['AGE'].values.tolist()\n",
    "negative_return_AGE_list = data[data.default == 1]['AGE'].values.tolist()\n",
    "\n",
    "%matplotlib inline\n",
    "plt.hist(positive_return_AGE_list, 7, alpha=0.5, label='pos_age')\n",
    "plt.hist(negative_return_AGE_list, 7, alpha=0.5, label='neg_age')\n",
    "plt.legend(loc='upper right')\n",
    "plt.show()\n"
   ]
  },
  {
   "cell_type": "code",
   "execution_count": 8,
   "metadata": {},
   "outputs": [
    {
     "name": "stdout",
     "output_type": "stream",
     "text": [
      "one-sided MannwhitneyuResult(statistic=78076624.5, pvalue=0.813748659064307)\n",
      "two-sided MannwhitneyuResult(statistic=78076624.5, pvalue=0.3725035434898616)\n",
      "1.0\n"
     ]
    }
   ],
   "source": [
    "from scipy.stats import mannwhitneyu\n",
    "\n",
    "print('one-sided', mannwhitneyu(negative_return_AGE_list, positive_return_AGE_list, use_continuity=True, alternative='less'))\n",
    "print('two-sided', mannwhitneyu(negative_return_AGE_list, positive_return_AGE_list, use_continuity=True, alternative='two-sided'))\n",
    "print(np.median(positive_return_AGE_list)/np.median(negative_return_AGE_list))"
   ]
  },
  {
   "cell_type": "markdown",
   "metadata": {},
   "source": [
    "### 5a\n",
    "По результату критерия Манна-Уитни гипотеза о равенстве медиан возрастов в 2 группах не отвергается."
   ]
  },
  {
   "cell_type": "code",
   "execution_count": 12,
   "metadata": {},
   "outputs": [
    {
     "name": "stdout",
     "output_type": "stream",
     "text": [
      "p-value: 0.019000\n",
      "0.9913655383670577\n"
     ]
    }
   ],
   "source": [
    "# воспользуемся перестановочным критерием для определения смещенности распределения 2х выборок.\n",
    "# для упрощения в ущерб точности возьмем 1000 перестановок\n",
    "np.random.seed(0)\n",
    "\n",
    "def permutation_t_stat_ind(sample1, sample2):\n",
    "    return np.mean(sample1) - np.mean(sample2)\n",
    "\n",
    "def get_random_combinations(n1, n2, max_combinations):\n",
    "    index = list(range(n1 + n2))\n",
    "    indices = set([tuple(index)])\n",
    "    for i in range(max_combinations - 1):\n",
    "        np.random.shuffle(index)\n",
    "        indices.add(tuple(index))\n",
    "    return [(index[:n1], index[n1:]) for index in indices]\n",
    "\n",
    "def permutation_zero_dist_ind(sample1, sample2, max_combinations = None):\n",
    "    joined_sample = np.hstack((sample1, sample2))\n",
    "    n1 = len(sample1)\n",
    "    n = len(joined_sample)\n",
    "    \n",
    "    if max_combinations:\n",
    "        indices = get_random_combinations(n1, len(sample2), max_combinations)\n",
    "    else:\n",
    "        indices = [(list(index), filter(lambda i: i not in index, range(n))) \\\n",
    "                    for index in itertools.combinations(range(n), n1)]\n",
    "    \n",
    "    distr = [joined_sample[list(i[0])].mean() - joined_sample[list(i[1])].mean() \\\n",
    "             for i in indices]\n",
    "    return distr\n",
    "\n",
    "def permutation_test(sample, mean, max_permutations = None, alternative = 'two-sided'):\n",
    "    if alternative not in ('two-sided', 'less', 'greater'):\n",
    "        raise ValueError(\"alternative not recognized\\n\"\n",
    "                         \"should be 'two-sided', 'less' or 'greater'\")\n",
    "    \n",
    "    t_stat = permutation_t_stat_ind(sample, mean)\n",
    "    \n",
    "    zero_distr = permutation_zero_dist_ind(sample, mean, max_permutations)\n",
    "    \n",
    "    if alternative == 'two-sided':\n",
    "        return sum([1. if abs(x) >= abs(t_stat) else 0. for x in zero_distr]) / len(zero_distr)\n",
    "    \n",
    "    if alternative == 'less':\n",
    "        return sum([1. if x <= t_stat else 0. for x in zero_distr]) / len(zero_distr)\n",
    "\n",
    "    if alternative == 'greater':\n",
    "        return sum([1. if x >= t_stat else 0. for x in zero_distr]) / len(zero_distr)\n",
    "    \n",
    "print (\"p-value: %f\" % permutation_test(positive_return_AGE_list, negative_return_AGE_list, max_permutations = 1000))\n",
    "print(np.mean(positive_return_AGE_list)/np.mean(negative_return_AGE_list))"
   ]
  },
  {
   "cell_type": "markdown",
   "metadata": {},
   "source": [
    "### 5b\n",
    "Перестановочный критерий говорит нам, что уже на уровне значимости 2% мы можем отвергнуть нулевую гипотезу о равенстве средних возрастов в 2 группах заемщиков. Однако с практический уровень значимости этой разницы меньше 1%, что не так значимо. "
   ]
  },
  {
   "cell_type": "code",
   "execution_count": null,
   "metadata": {
    "collapsed": true
   },
   "outputs": [],
   "source": []
  }
 ],
 "metadata": {
  "kernelspec": {
   "display_name": "Python 3",
   "language": "python",
   "name": "python3"
  },
  "language_info": {
   "codemirror_mode": {
    "name": "ipython",
    "version": 3
   },
   "file_extension": ".py",
   "mimetype": "text/x-python",
   "name": "python",
   "nbconvert_exporter": "python",
   "pygments_lexer": "ipython3",
   "version": "3.6.2"
  }
 },
 "nbformat": 4,
 "nbformat_minor": 2
}
