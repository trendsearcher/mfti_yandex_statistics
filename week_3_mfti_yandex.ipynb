{
 "cells": [
  {
   "cell_type": "markdown",
   "metadata": {},
   "source": [
    "## Есть ли связь между неграмотностью и рождаемостью? Для 94 стран, уровень неграмотности женщин в которых больше 5%, известны доля неграмотных среди женщин старше 15 (на 2003 год) и средняя рождаемость на одну женщину (на 2005 год).\n",
    "\n",
    "Чему равен выборочный коэффициент корреляции Пирсона между этими двумя признаками? Округлите до четырёх знаков после десятичной точки."
   ]
  },
  {
   "cell_type": "code",
   "execution_count": 3,
   "metadata": {},
   "outputs": [
    {
     "name": "stdout",
     "output_type": "stream",
     "text": [
      "        Country  Illit  Births\n",
      "0       Albania   20.5    1.78\n",
      "1       Algeria   39.1    2.44\n",
      "2       Bahrain   15.0    2.34\n",
      "3        Belize    5.9    2.97\n",
      "4         Benin   73.5    5.60\n",
      "5       Bolivia   18.5    3.65\n",
      "6      Botswana   17.6    3.03\n",
      "7        Brazil   11.9    2.29\n",
      "8        Brunei   11.5    2.38\n",
      "9  Burkina Faso   83.4    5.90 Index(['Country', 'Illit', 'Births'], dtype='object')\n"
     ]
    }
   ],
   "source": [
    "import pandas as pd\n",
    "import numpy as np\n",
    "df = pd.read_csv('C:\\\\Users\\\\user\\\\Desktop\\\\illegacy.txt', sep=\"\\t\", header=0)\n",
    "print(df.head(10), df.columns)"
   ]
  },
  {
   "cell_type": "code",
   "execution_count": 5,
   "metadata": {},
   "outputs": [
    {
     "data": {
      "text/html": [
       "<div>\n",
       "<style scoped>\n",
       "    .dataframe tbody tr th:only-of-type {\n",
       "        vertical-align: middle;\n",
       "    }\n",
       "\n",
       "    .dataframe tbody tr th {\n",
       "        vertical-align: top;\n",
       "    }\n",
       "\n",
       "    .dataframe thead th {\n",
       "        text-align: right;\n",
       "    }\n",
       "</style>\n",
       "<table border=\"1\" class=\"dataframe\">\n",
       "  <thead>\n",
       "    <tr style=\"text-align: right;\">\n",
       "      <th></th>\n",
       "      <th>Illit</th>\n",
       "      <th>Births</th>\n",
       "    </tr>\n",
       "  </thead>\n",
       "  <tbody>\n",
       "    <tr>\n",
       "      <th>Illit</th>\n",
       "      <td>1.000000</td>\n",
       "      <td>0.768663</td>\n",
       "    </tr>\n",
       "    <tr>\n",
       "      <th>Births</th>\n",
       "      <td>0.768663</td>\n",
       "      <td>1.000000</td>\n",
       "    </tr>\n",
       "  </tbody>\n",
       "</table>\n",
       "</div>"
      ],
      "text/plain": [
       "           Illit    Births\n",
       "Illit   1.000000  0.768663\n",
       "Births  0.768663  1.000000"
      ]
     },
     "execution_count": 5,
     "metadata": {},
     "output_type": "execute_result"
    }
   ],
   "source": [
    "df.corr(method='pearson')"
   ]
  },
  {
   "cell_type": "code",
   "execution_count": 6,
   "metadata": {},
   "outputs": [
    {
     "data": {
      "text/html": [
       "<div>\n",
       "<style scoped>\n",
       "    .dataframe tbody tr th:only-of-type {\n",
       "        vertical-align: middle;\n",
       "    }\n",
       "\n",
       "    .dataframe tbody tr th {\n",
       "        vertical-align: top;\n",
       "    }\n",
       "\n",
       "    .dataframe thead th {\n",
       "        text-align: right;\n",
       "    }\n",
       "</style>\n",
       "<table border=\"1\" class=\"dataframe\">\n",
       "  <thead>\n",
       "    <tr style=\"text-align: right;\">\n",
       "      <th></th>\n",
       "      <th>Illit</th>\n",
       "      <th>Births</th>\n",
       "    </tr>\n",
       "  </thead>\n",
       "  <tbody>\n",
       "    <tr>\n",
       "      <th>Illit</th>\n",
       "      <td>1.000000</td>\n",
       "      <td>0.752962</td>\n",
       "    </tr>\n",
       "    <tr>\n",
       "      <th>Births</th>\n",
       "      <td>0.752962</td>\n",
       "      <td>1.000000</td>\n",
       "    </tr>\n",
       "  </tbody>\n",
       "</table>\n",
       "</div>"
      ],
      "text/plain": [
       "           Illit    Births\n",
       "Illit   1.000000  0.752962\n",
       "Births  0.752962  1.000000"
      ]
     },
     "execution_count": 6,
     "metadata": {},
     "output_type": "execute_result"
    }
   ],
   "source": [
    "df.corr(method='spearman')"
   ]
  },
  {
   "cell_type": "markdown",
   "metadata": {},
   "source": [
    "## Для 61 большого города в Англии и Уэльсе известны средняя годовая смертность на 100000 населения (по данным 1958–1964) и концентрация кальция в питьевой воде (в частях на маллион). Чем выше концентрация кальция, тем жёстче вода. Города дополнительно поделены на северные и южные.\n",
    "Есть ли связь между жёсткостью воды и средней годовой смертностью? Посчитайте значение коэффициента корреляции Пирсона между этими признаками, округлите его до четырёх знаков после десятичной точки"
   ]
  },
  {
   "cell_type": "code",
   "execution_count": 7,
   "metadata": {},
   "outputs": [
    {
     "name": "stdout",
     "output_type": "stream",
     "text": [
      "  location         town  mortality  hardness\n",
      "0    South         Bath       1247       105\n",
      "1    North   Birkenhead       1668        17\n",
      "2    South   Birmingham       1466         5\n",
      "3    North    Blackburn       1800        14\n",
      "4    North    Blackpool       1609        18\n",
      "5    North       Bolton       1558        10\n",
      "6    North       Bootle       1807        15\n",
      "7    South  Bournemouth       1299        78\n",
      "8    North     Bradford       1637        10\n",
      "9    South     Brighton       1359        84 Index(['location', 'town', 'mortality', 'hardness'], dtype='object')\n"
     ]
    }
   ],
   "source": [
    "import pandas as pd\n",
    "import numpy as np\n",
    "df = pd.read_csv('C:\\\\Users\\\\user\\\\Desktop\\\\water.txt', sep=\"\\t\", header=0)\n",
    "print(df.head(10), df.columns)"
   ]
  },
  {
   "cell_type": "code",
   "execution_count": 8,
   "metadata": {},
   "outputs": [
    {
     "data": {
      "text/html": [
       "<div>\n",
       "<style scoped>\n",
       "    .dataframe tbody tr th:only-of-type {\n",
       "        vertical-align: middle;\n",
       "    }\n",
       "\n",
       "    .dataframe tbody tr th {\n",
       "        vertical-align: top;\n",
       "    }\n",
       "\n",
       "    .dataframe thead th {\n",
       "        text-align: right;\n",
       "    }\n",
       "</style>\n",
       "<table border=\"1\" class=\"dataframe\">\n",
       "  <thead>\n",
       "    <tr style=\"text-align: right;\">\n",
       "      <th></th>\n",
       "      <th>mortality</th>\n",
       "      <th>hardness</th>\n",
       "    </tr>\n",
       "  </thead>\n",
       "  <tbody>\n",
       "    <tr>\n",
       "      <th>mortality</th>\n",
       "      <td>1.000000</td>\n",
       "      <td>-0.654849</td>\n",
       "    </tr>\n",
       "    <tr>\n",
       "      <th>hardness</th>\n",
       "      <td>-0.654849</td>\n",
       "      <td>1.000000</td>\n",
       "    </tr>\n",
       "  </tbody>\n",
       "</table>\n",
       "</div>"
      ],
      "text/plain": [
       "           mortality  hardness\n",
       "mortality   1.000000 -0.654849\n",
       "hardness   -0.654849  1.000000"
      ]
     },
     "execution_count": 8,
     "metadata": {},
     "output_type": "execute_result"
    }
   ],
   "source": [
    "df.corr(method='pearson')"
   ]
  },
  {
   "cell_type": "code",
   "execution_count": 9,
   "metadata": {},
   "outputs": [
    {
     "data": {
      "text/html": [
       "<div>\n",
       "<style scoped>\n",
       "    .dataframe tbody tr th:only-of-type {\n",
       "        vertical-align: middle;\n",
       "    }\n",
       "\n",
       "    .dataframe tbody tr th {\n",
       "        vertical-align: top;\n",
       "    }\n",
       "\n",
       "    .dataframe thead th {\n",
       "        text-align: right;\n",
       "    }\n",
       "</style>\n",
       "<table border=\"1\" class=\"dataframe\">\n",
       "  <thead>\n",
       "    <tr style=\"text-align: right;\">\n",
       "      <th></th>\n",
       "      <th>mortality</th>\n",
       "      <th>hardness</th>\n",
       "    </tr>\n",
       "  </thead>\n",
       "  <tbody>\n",
       "    <tr>\n",
       "      <th>mortality</th>\n",
       "      <td>1.000000</td>\n",
       "      <td>-0.631665</td>\n",
       "    </tr>\n",
       "    <tr>\n",
       "      <th>hardness</th>\n",
       "      <td>-0.631665</td>\n",
       "      <td>1.000000</td>\n",
       "    </tr>\n",
       "  </tbody>\n",
       "</table>\n",
       "</div>"
      ],
      "text/plain": [
       "           mortality  hardness\n",
       "mortality   1.000000 -0.631665\n",
       "hardness   -0.631665  1.000000"
      ]
     },
     "execution_count": 9,
     "metadata": {},
     "output_type": "execute_result"
    }
   ],
   "source": [
    "df.corr(method='spearman')"
   ]
  },
  {
   "cell_type": "markdown",
   "metadata": {},
   "source": [
    "### Сохраняется ли связь между признаками, если разбить выборку на северные и южные города? Посчитайте значения корреляции Пирсона между средней годовой смертностью и жёсткостью воды в каждой из двух подвыборок, введите наименьшее по модулю из двух значений, округлив его до четырёх знаков после десятичной точки."
   ]
  },
  {
   "cell_type": "code",
   "execution_count": 13,
   "metadata": {},
   "outputs": [
    {
     "data": {
      "text/html": [
       "<div>\n",
       "<style scoped>\n",
       "    .dataframe tbody tr th:only-of-type {\n",
       "        vertical-align: middle;\n",
       "    }\n",
       "\n",
       "    .dataframe tbody tr th {\n",
       "        vertical-align: top;\n",
       "    }\n",
       "\n",
       "    .dataframe thead th {\n",
       "        text-align: right;\n",
       "    }\n",
       "</style>\n",
       "<table border=\"1\" class=\"dataframe\">\n",
       "  <thead>\n",
       "    <tr style=\"text-align: right;\">\n",
       "      <th></th>\n",
       "      <th>mortality</th>\n",
       "      <th>hardness</th>\n",
       "    </tr>\n",
       "  </thead>\n",
       "  <tbody>\n",
       "    <tr>\n",
       "      <th>mortality</th>\n",
       "      <td>1.000000</td>\n",
       "      <td>-0.602153</td>\n",
       "    </tr>\n",
       "    <tr>\n",
       "      <th>hardness</th>\n",
       "      <td>-0.602153</td>\n",
       "      <td>1.000000</td>\n",
       "    </tr>\n",
       "  </tbody>\n",
       "</table>\n",
       "</div>"
      ],
      "text/plain": [
       "           mortality  hardness\n",
       "mortality   1.000000 -0.602153\n",
       "hardness   -0.602153  1.000000"
      ]
     },
     "execution_count": 13,
     "metadata": {},
     "output_type": "execute_result"
    }
   ],
   "source": [
    "df[df['location']  == 'South'].corr(method='pearson')"
   ]
  },
  {
   "cell_type": "code",
   "execution_count": 14,
   "metadata": {},
   "outputs": [
    {
     "data": {
      "text/html": [
       "<div>\n",
       "<style scoped>\n",
       "    .dataframe tbody tr th:only-of-type {\n",
       "        vertical-align: middle;\n",
       "    }\n",
       "\n",
       "    .dataframe tbody tr th {\n",
       "        vertical-align: top;\n",
       "    }\n",
       "\n",
       "    .dataframe thead th {\n",
       "        text-align: right;\n",
       "    }\n",
       "</style>\n",
       "<table border=\"1\" class=\"dataframe\">\n",
       "  <thead>\n",
       "    <tr style=\"text-align: right;\">\n",
       "      <th></th>\n",
       "      <th>mortality</th>\n",
       "      <th>hardness</th>\n",
       "    </tr>\n",
       "  </thead>\n",
       "  <tbody>\n",
       "    <tr>\n",
       "      <th>mortality</th>\n",
       "      <td>1.000000</td>\n",
       "      <td>-0.368598</td>\n",
       "    </tr>\n",
       "    <tr>\n",
       "      <th>hardness</th>\n",
       "      <td>-0.368598</td>\n",
       "      <td>1.000000</td>\n",
       "    </tr>\n",
       "  </tbody>\n",
       "</table>\n",
       "</div>"
      ],
      "text/plain": [
       "           mortality  hardness\n",
       "mortality   1.000000 -0.368598\n",
       "hardness   -0.368598  1.000000"
      ]
     },
     "execution_count": 14,
     "metadata": {},
     "output_type": "execute_result"
    }
   ],
   "source": [
    "df[df['location']  == 'North'].corr(method='pearson')"
   ]
  },
  {
   "cell_type": "markdown",
   "metadata": {},
   "source": [
    "## Среди респондентов General Social Survey 2014 года хотя бы раз в месяц проводят вечер в баре 203 женщины и 239 мужчин; реже, чем раз в месяц, это делают 718 женщин и 515 мужчин.\n",
    "\n",
    "Посчитайте значение коэффициента корреляции Мэтьюса между полом и частотой похода в бары. Округлите значение до трёх знаков после десятичной точки."
   ]
  },
  {
   "cell_type": "code",
   "execution_count": 3,
   "metadata": {},
   "outputs": [
    {
     "name": "stdout",
     "output_type": "stream",
     "text": [
      "-0.4650648462982252\n"
     ]
    }
   ],
   "source": [
    "#status   man       woman\n",
    "#>=1     239(a)    203(b)\n",
    "#<1      515(c)    718(d)    \n",
    "import math\n",
    "\n",
    "def matthews_corrcoef_my(a,b,c,d):\n",
    "    chisl = a*b - c*d\n",
    "    znam = math.sqrt(((a+c)*(a+d)*(b+d)*(b+c)))\n",
    "    return(chisl/znam)\n",
    "print(matthews_corrcoef_my(239, 203, 515, 718))\n"
   ]
  },
  {
   "attachments": {},
   "cell_type": "markdown",
   "metadata": {},
   "source": [
    "#### грейдер не жует мой ответ"
   ]
  },
  {
   "cell_type": "markdown",
   "metadata": {},
   "source": [
    "## В предыдущей задаче проверьте, значимо ли коэффициент корреляции Мэтьюса отличается от нуля. Посчитайте достигаемый уровень значимости; используйте функцию scipy.stats.chi2_contingency."
   ]
  },
  {
   "cell_type": "code",
   "execution_count": 5,
   "metadata": {},
   "outputs": [
    {
     "data": {
      "text/plain": [
       "(19.40753078854304,\n",
       " 1.0558987006638725e-05,\n",
       " 1,\n",
       " array([[198.96597015, 243.03402985],\n",
       "        [555.03402985, 677.96597015]]))"
      ]
     },
     "execution_count": 5,
     "metadata": {},
     "output_type": "execute_result"
    }
   ],
   "source": [
    "from scipy.stats import chi2_contingency\n",
    "import numpy as np\n",
    "'''\n",
    "The test statistic.\n",
    "\n",
    "The p-value of the test\n",
    "\n",
    "\n",
    "Degrees of freedom\n",
    "\n",
    "expected : ndarray, same shape as observed\n",
    "\n",
    "The expected frequencies, based on the marginal sums of the table.'''\n",
    "obj = np.array([[239, 203], [515,718]])\n",
    "chi2_contingency(obj)\n"
   ]
  },
  {
   "cell_type": "markdown",
   "metadata": {},
   "source": [
    "## В предыдущей задаче давайте попробуем ответить на немного другой вопрос: отличаются ли доля мужчин и доля женщин, относительно часто проводящих вечера в баре? Постройте 95% доверительный интервал для разности долей, вычитая долю женщин из доли мужчин. Чему равна его нижняя граница? Округлите до четырёх знаков после десятичной точки"
   ]
  },
  {
   "cell_type": "code",
   "execution_count": 3,
   "metadata": {},
   "outputs": [
    {
     "name": "stdout",
     "output_type": "stream",
     "text": [
      "95% confidence interval for a difference between proportions: [0.053905, 0.139222]\n",
      "p-value: 0.000008\n",
      "p-value: 0.999996\n",
      "p-value: 0.000004\n"
     ]
    }
   ],
   "source": [
    "#от нас хотят Z-критерий для разности неких долей (очевидно независимые выборки)\n",
    "\n",
    "def proportions_diff_confint_ind(sample1, sample2, alpha = 0.05):    \n",
    "    z = scipy.stats.norm.ppf(1 - alpha / 2.)\n",
    "    \n",
    "    p1 = float(sum(sample1)) / len(sample1)\n",
    "    p2 = float(sum(sample2)) / len(sample2)\n",
    "    \n",
    "    left_boundary = (p1 - p2) - z * np.sqrt(p1 * (1 - p1)/ len(sample1) + p2 * (1 - p2)/ len(sample2))\n",
    "    right_boundary = (p1 - p2) + z * np.sqrt(p1 * (1 - p1)/ len(sample1) + p2 * (1 - p2)/ len(sample2))\n",
    "    \n",
    "    return (left_boundary, right_boundary)\n",
    "def proportions_diff_z_stat_ind(sample1, sample2):\n",
    "    n1 = len(sample1)\n",
    "    n2 = len(sample2)\n",
    "    \n",
    "    p1 = float(sum(sample1)) / n1\n",
    "    p2 = float(sum(sample2)) / n2 \n",
    "    P = float(p1*n1 + p2*n2) / (n1 + n2)\n",
    "    \n",
    "    return (p1 - p2) / np.sqrt(P * (1 - P) * (1. / n1 + 1. / n2))\n",
    "def proportions_diff_z_test(z_stat, alternative = 'two-sided'):\n",
    "    if alternative not in ('two-sided', 'less', 'greater'):\n",
    "        raise ValueError(\"alternative not recognized\\n\"\n",
    "                         \"should be 'two-sided', 'less' or 'greater'\")\n",
    "    \n",
    "    if alternative == 'two-sided':\n",
    "        return 2 * (1 - scipy.stats.norm.cdf(np.abs(z_stat)))\n",
    "    \n",
    "    if alternative == 'less':\n",
    "        return scipy.stats.norm.cdf(z_stat)\n",
    "\n",
    "    if alternative == 'greater':\n",
    "        return 1 - scipy.stats.norm.cdf(z_stat)\n",
    "    \n",
    "    \n",
    "import scipy\n",
    "from statsmodels.stats.weightstats import *\n",
    "from statsmodels.stats.proportion import proportion_confint\n",
    "\n",
    "fem = np.append(np.ones(203), np.zeros(718))\n",
    "mal = np.append(np.ones(239), np.zeros(515))\n",
    "\n",
    "print (\"95%% confidence interval for a difference between proportions: [%f, %f]\"% proportions_diff_confint_ind(mal, fem))\n",
    "print (\"p-value: %f\" % proportions_diff_z_test(proportions_diff_z_stat_ind(mal, fem)))\n",
    "print (\"p-value: %f\" % proportions_diff_z_test(proportions_diff_z_stat_ind(mal, fem), 'less')) # наш случай\n",
    "print (\"p-value: %f\" % proportions_diff_z_test(proportions_diff_z_stat_ind(mal, fem), 'greater'))    "
   ]
  },
  {
   "cell_type": "markdown",
   "metadata": {},
   "source": [
    "## Посмотрим на данные General Social Survey 2014 года и проанализируем, как связаны ответы на вопросы \"Счастливы ли вы?\" и \"Довольны ли вы вашим финансовым положением?\"\n",
    "\n",
    "                    Не доволен\tБолее или менее\t      Доволен\n",
    "                    \n",
    "    Не очень счастлив\t197\t         111\t               33\n",
    "\n",
    "    Достаточно счастлив\t382\t         685\t               331\n",
    "\n",
    "    Очень счастлив\t     110\t     342\t               333\n",
    "______________________________________________________________________________________________________________________\n",
    "Чему равно значение статистики хи-квадрат для этой таблицы сопряжённости? Округлите ответ до четырёх знаков после десятичной точки."
   ]
  },
  {
   "cell_type": "code",
   "execution_count": 7,
   "metadata": {},
   "outputs": [
    {
     "data": {
      "text/plain": [
       "(293.68311039689746,\n",
       " 2.4964299580093467e-62,\n",
       " 4,\n",
       " array([[ 93.08597464, 153.74722662,  94.16679873],\n",
       "        [381.6251981 , 630.318542  , 386.0562599 ],\n",
       "        [214.28882726, 353.93423138, 216.77694136]]))"
      ]
     },
     "execution_count": 7,
     "metadata": {},
     "output_type": "execute_result"
    }
   ],
   "source": [
    "from scipy.stats import chi2_contingency\n",
    "import numpy as np\n",
    "'''вообще для небольших выборок целесообразнее использовать:\n",
    "1  точный тест фишера (гипергеометрическое распред.)\n",
    "2  дельта хи квадрат (логарифмы)\n",
    "'''\n",
    "'''\n",
    "The test statistic.\n",
    "\n",
    "The p-value of the test\n",
    "\n",
    "Degrees of freedom\n",
    "\n",
    "expected : ndarray, same shape as observed\n",
    "\n",
    "The expected frequencies, based on the marginal sums of the table.'''\n",
    "\n",
    "chi2_contingency([[197, 111, 33], [382, 685, 331], [110, 342, 333]])"
   ]
  },
  {
   "cell_type": "markdown",
   "metadata": {},
   "source": [
    "## Чему в предыдущей задаче равно значение коэффициента V Крамера для рассматриваемых признаков? Округлите ответ до четырёх знаков после десятичной точки"
   ]
  },
  {
   "cell_type": "code",
   "execution_count": 8,
   "metadata": {},
   "outputs": [
    {
     "name": "stdout",
     "output_type": "stream",
     "text": [
      "0.23964751409931453\n"
     ]
    }
   ],
   "source": [
    "# sqrt(stat hi squared / n*(r-1)*(c-1))\n",
    "# где n -можность выборки, r - количество столбцов, c - количество строк contingency table\n",
    "import math\n",
    "from scipy.stats import chi2_contingency\n",
    "import numpy as np\n",
    "\n",
    "def v_kramer (matrix):\n",
    "    hi_squared = chi2_contingency(matrix)[0]\n",
    "    n = 0\n",
    "    c = 0\n",
    "    for i in matrix:\n",
    "        n += sum(i)\n",
    "        c += 1   \n",
    "    r = len(i)\n",
    "    \n",
    "    phi2 = hi_squared/n\n",
    "    \n",
    "    phi2corr = max(0, phi2 - ((c-1)*(r-1))/(n-1))    \n",
    "    rcorr = r - ((r-1)**2)/(n-1)\n",
    "    kcorr = c - ((c-1)**2)/(n-1)\n",
    "    return np.sqrt(phi2corr / min( (kcorr-1), (rcorr-1)))\n",
    "\n",
    "print(v_kramer([[197, 111, 33], [382, 685, 331], [110, 342, 333]]))"
   ]
  },
  {
   "cell_type": "markdown",
   "metadata": {
    "collapsed": true
   },
   "source": [
    "## Классификатор C4.5 и три его модификации: с оптимизацией гиперпараметра m, гиперпараметра cf и с одновременной оптимизацией обоих гиперпараметров. Эти четыре классификатора сравнивались на 14 наборах данных. На каждом датасете был посчитан AUC каждого классификатора. Данные записаны в файле:\n",
    "Используя критерий знаковых рангов, проведите попарное сравнение каждого классификатора с каждым. Выберите два классификатора, различие между которыми наиболее статистически значимо."
   ]
  },
  {
   "cell_type": "code",
   "execution_count": 9,
   "metadata": {},
   "outputs": [
    {
     "name": "stdout",
     "output_type": "stream",
     "text": [
      "                Unnamed: 0   C4.5  C4.5+m  C4.5+cf  C4.5+m+cf\n",
      "0           adult (sample)  0.763   0.768    0.771      0.798\n",
      "1            breast cancer  0.599   0.591    0.590      0.569\n",
      "2  breast cancer wisconsin  0.954   0.971    0.968      0.967\n",
      "3                      cmc  0.628   0.661    0.654      0.657\n",
      "4               ionosphere  0.882   0.888    0.886      0.898\n",
      "5                     iris  0.936   0.931    0.916      0.931\n",
      "6          liver disorders  0.661   0.668    0.609      0.685\n",
      "7              lung cancer  0.583   0.583    0.563      0.625\n",
      "8             lymphography  0.775   0.838    0.866      0.875\n",
      "9                 mushroom  1.000   1.000    1.000      1.000 Index(['Unnamed: 0', 'C4.5', 'C4.5+m', 'C4.5+cf', 'C4.5+m+cf'], dtype='object')\n"
     ]
    }
   ],
   "source": [
    "import pandas as pd\n",
    "import numpy as np\n",
    "df = pd.read_csv('C:\\\\Users\\\\user\\\\Desktop\\\\aucs.txt', sep=\"\\t\", header=0)\n",
    "print(df.head(10), df.columns)"
   ]
  },
  {
   "cell_type": "code",
   "execution_count": 46,
   "metadata": {},
   "outputs": [
    {
     "name": "stdout",
     "output_type": "stream",
     "text": [
      "1st   2nd   p val\n",
      "C4.5 C4.5+m 0.01075713311978963\n",
      "C4.5 C4.5+cf 0.861262330095348\n",
      "C4.5 C4.5+m+cf 0.015906444101703374\n",
      "C4.5+m C4.5+cf 0.046332729793395394\n",
      "C4.5+m C4.5+m+cf 0.3278256758446406\n",
      "C4.5+cf C4.5+m+cf 0.022909099354356588\n"
     ]
    }
   ],
   "source": [
    "# можно применить критерий знаковых рангов Вилкоксона. на вход - попарные разности.\n",
    "from scipy.stats import wilcoxon\n",
    "P_val_list = []\n",
    "columns = list(df)[1:]\n",
    "print('1st   2nd   p val')\n",
    "i = 0\n",
    "while i < len(columns):        \n",
    "    ii = i+1\n",
    "    while ii < len(columns):\n",
    "        dif = df[columns[i]] - df[columns[ii]]\n",
    "        print(columns[i], columns[ii], wilcoxon(dif)[1])\n",
    "        P_val_list.append(wilcoxon(dif)[1])\n",
    "        ii += 1   \n",
    "    i += 1    "
   ]
  },
  {
   "cell_type": "markdown",
   "metadata": {},
   "source": [
    "## Сравнивая 4 классификатора между собой, мы проверили 6 гипотез. Давайте сделаем поправку на множественную проверку. Начнём с метода Холма. Сколько гипотез можно отвергнуть на уровне значимости 0.05 после поправки этим методом?"
   ]
  },
  {
   "cell_type": "code",
   "execution_count": 47,
   "metadata": {},
   "outputs": [
    {
     "data": {
      "text/plain": [
       "(array([False, False, False, False, False, False]),\n",
       " array([0.0645428 , 0.86126233, 0.07953222, 0.13899819, 0.65565135,\n",
       "        0.0916364 ]),\n",
       " 0.008512444610847103,\n",
       " 0.008333333333333333)"
      ]
     },
     "execution_count": 47,
     "metadata": {},
     "output_type": "execute_result"
    }
   ],
   "source": [
    "from statsmodels.sandbox.stats.multicomp import multipletests\n",
    "multipletests(P_val_list, alpha=0.05, method='holm')"
   ]
  },
  {
   "cell_type": "markdown",
   "metadata": {},
   "source": [
    "### Сколько гипотез можно отвергнуть на уровне значимости 0.05 после поправки методом Бенджамини-Хохберга?"
   ]
  },
  {
   "cell_type": "code",
   "execution_count": 48,
   "metadata": {},
   "outputs": [
    {
     "data": {
      "text/plain": [
       "(array([ True, False,  True, False, False,  True]),\n",
       " array([0.0458182 , 0.86126233, 0.0458182 , 0.06949909, 0.39339081,\n",
       "        0.0458182 ]),\n",
       " 0.008512444610847103,\n",
       " 0.008333333333333333)"
      ]
     },
     "execution_count": 48,
     "metadata": {},
     "output_type": "execute_result"
    }
   ],
   "source": [
    "multipletests(P_val_list, alpha=0.05, method='fdr_bh')"
   ]
  },
  {
   "cell_type": "markdown",
   "metadata": {
    "collapsed": true
   },
   "source": [
    "# Давайте проанализируем данные опроса 4361 женщин из Ботсваны:"
   ]
  },
  {
   "cell_type": "markdown",
   "metadata": {},
   "source": [
    "## Загрузите данные и внимательно изучите их. Сколько разных значений принимает признак religion?"
   ]
  },
  {
   "cell_type": "code",
   "execution_count": 17,
   "metadata": {},
   "outputs": [
    {
     "name": "stdout",
     "output_type": "stream",
     "text": [
      "Index(['ceb', 'age', 'educ', 'religion', 'idlnchld', 'knowmeth', 'usemeth',\n",
      "       'evermarr', 'agefm', 'heduc', 'urban', 'electric', 'radio', 'tv',\n",
      "       'bicycle'],\n",
      "      dtype='object')\n"
     ]
    }
   ],
   "source": [
    "import pandas as pd\n",
    "import numpy as np\n",
    "df = pd.read_csv('C:\\\\Users\\\\user\\\\Desktop\\\\botswana.tsv', sep=\"\\t\", header=0)\n",
    "print(df.columns)"
   ]
  },
  {
   "cell_type": "code",
   "execution_count": 18,
   "metadata": {},
   "outputs": [
    {
     "name": "stdout",
     "output_type": "stream",
     "text": [
      "['catholic' 'protestant' 'spirit' 'other']\n"
     ]
    }
   ],
   "source": [
    "print(df['religion'].unique())"
   ]
  },
  {
   "cell_type": "markdown",
   "metadata": {},
   "source": [
    "## Во многих признаках есть пропущенные значения. Сколько объектов из 4361 останется, если выбросить все, содержащие пропуски?"
   ]
  },
  {
   "cell_type": "code",
   "execution_count": 19,
   "metadata": {},
   "outputs": [
    {
     "name": "stdout",
     "output_type": "stream",
     "text": [
      "     ceb    age   educ  religion  idlnchld  knowmeth  usemeth  evermarr  \\\n",
      "0  False  False  False     False     False     False    False     False   \n",
      "1  False  False  False     False     False     False    False     False   \n",
      "2  False  False  False     False     False     False    False     False   \n",
      "3  False  False  False     False     False     False    False     False   \n",
      "4  False  False  False     False     False     False    False     False   \n",
      "\n",
      "   agefm  heduc  urban  electric  radio     tv  bicycle  \n",
      "0   True   True  False     False  False  False    False  \n",
      "1  False  False  False     False  False  False    False  \n",
      "2  False  False  False     False  False  False    False  \n",
      "3   True   True  False     False  False  False    False  \n",
      "4  False  False  False     False  False  False    False  \n"
     ]
    }
   ],
   "source": [
    "missing_data = df.isnull()\n",
    "print(missing_data.head(5))\n",
    "# for column in missing_data.columns.values.tolist():\n",
    "#     print(column)\n",
    "#     print (missing_data[column].value_counts())\n",
    "#     print(\"\")    "
   ]
  },
  {
   "cell_type": "code",
   "execution_count": 20,
   "metadata": {},
   "outputs": [
    {
     "data": {
      "text/plain": [
       "2527"
      ]
     },
     "execution_count": 20,
     "metadata": {},
     "output_type": "execute_result"
    }
   ],
   "source": [
    "#количество строк с пропущенными величинами\n",
    "df.shape[0] - df.dropna().shape[0]"
   ]
  },
  {
   "cell_type": "markdown",
   "metadata": {},
   "source": [
    "В разных признаках пропуски возникают по разным причинам и должны обрабатываться по-разному.\n",
    "\n",
    "Например, в признаке agefm пропуски стоят только там, где evermarr=0, то есть, они соответствуют женщинам, никогда не выходившим замуж. Таким образом, для этого признака NaN соответствует значению \"не применимо\".\n",
    "\n",
    "В подобных случаях, когда признак x_1x \n",
    "1\n",
    "​\t  на части объектов в принципе не может принимать никакие значения, рекомендуется поступать так:\n",
    "\n",
    "создать новый бинарный признак\n",
    "x2={1,0,x1='не применимо',иначе;\n",
    "заменить \"не применимо\" в x_1x \n",
    "1\n",
    "​\t  на произвольную константу cc, которая среди других значений x_1x \n",
    "1\n",
    "​\t  не встречается.\n",
    "Теперь, когда мы построим регрессию на оба признака и получим модель вида\n",
    "y=\\beta_0 + \\beta_1 x_1 + \\beta_2 x_2,y=β \n",
    "0\n",
    "​\t +β \n",
    "1\n",
    "​\t x \n",
    "1\n",
    "​\t +β \n",
    "2\n",
    "​\t x \n",
    "2\n",
    "​\t ,\n",
    "на тех объектах, где x_1x \n",
    "1\n",
    "​\t  было измерено, регрессионное уравнение примет вид\n",
    "y=\\beta_0 + \\beta_1 x,y=β \n",
    "0\n",
    "​\t +β \n",
    "1\n",
    "​\t x,\n",
    "а там, где x_1x \n",
    "1\n",
    "​\t  было \"не применимо\", получится\n",
    "y=\\beta_0 + \\beta_1 c + \\beta_2.y=β \n",
    "0\n",
    "​\t +β \n",
    "1\n",
    "​\t c+β \n",
    "2\n",
    "​\t .\n",
    "Выбор cc влияет только на значение и интерпретацию \\beta_2β \n",
    "2\n",
    "​\t , но не \\beta_1β \n",
    "1\n",
    "​\t .\n",
    "\n",
    "Давайте используем этот метод для обработки пропусков в agefm и heduc.\n",
    "\n",
    "1 Создайте признак nevermarr, равный единице там, где в agefm пропуски.\n",
    "\n",
    "2 Удалите признак evermarr — в сумме с nevermarr он даёт константу, значит, в нашей матрице XX будет мультиколлинеарность.\n",
    "\n",
    "3 Замените NaN в признаке agefm на c_{agefm}=0c \n",
    "agefm =0.\n",
    "\n",
    "4 У объектов, где nevermarr = 1, замените NaN в признаке heduc на c_{heduc_1}=-1\n",
    "cheduc1=−1 (ноль использовать нельзя, так как он уже встречается у некоторых объектов выборки).\n",
    "\n",
    "Сколько осталось пропущенных значений в признаке heduc?"
   ]
  },
  {
   "cell_type": "code",
   "execution_count": 21,
   "metadata": {},
   "outputs": [
    {
     "name": "stdout",
     "output_type": "stream",
     "text": [
      "   ceb  age  educ    religion  idlnchld  knowmeth  usemeth  evermarr  agefm  \\\n",
      "0    0   18    10    catholic       4.0       1.0      1.0         0    NaN   \n",
      "1    2   43    11  protestant       2.0       1.0      1.0         1   20.0   \n",
      "2    0   49     4      spirit       4.0       1.0      0.0         1   22.0   \n",
      "3    0   24    12       other       2.0       1.0      0.0         0    NaN   \n",
      "4    3   32    13       other       3.0       1.0      1.0         1   24.0   \n",
      "\n",
      "   heduc  urban  electric  radio   tv  bicycle  \n",
      "0    NaN      1       1.0    1.0  1.0      1.0  \n",
      "1   14.0      1       1.0    1.0  1.0      1.0  \n",
      "2    1.0      1       1.0    1.0  0.0      0.0  \n",
      "3    NaN      1       1.0    1.0  1.0      1.0  \n",
      "4   12.0      1       1.0    1.0  1.0      1.0  \n"
     ]
    }
   ],
   "source": [
    "print(df.head())"
   ]
  },
  {
   "cell_type": "code",
   "execution_count": 22,
   "metadata": {},
   "outputs": [
    {
     "name": "stdout",
     "output_type": "stream",
     "text": [
      "    ceb  age  educ    religion  idlnchld  knowmeth  usemeth  agefm  heduc  \\\n",
      "0     0   18    10    catholic       4.0       1.0      1.0    0.0   -1.0   \n",
      "1     2   43    11  protestant       2.0       1.0      1.0   20.0   14.0   \n",
      "2     0   49     4      spirit       4.0       1.0      0.0   22.0    1.0   \n",
      "3     0   24    12       other       2.0       1.0      0.0    0.0   -1.0   \n",
      "4     3   32    13       other       3.0       1.0      1.0   24.0   12.0   \n",
      "5     1   30     5      spirit       5.0       1.0      0.0   24.0    7.0   \n",
      "6     3   42     4       other       3.0       1.0      0.0   15.0   11.0   \n",
      "7     1   36     7       other       4.0       1.0      1.0   24.0    9.0   \n",
      "8     4   37    16    catholic       4.0       1.0      1.0   26.0   17.0   \n",
      "9     1   34     5  protestant       4.0       1.0      1.0   18.0    3.0   \n",
      "10    3   42    15       other       3.0       1.0      1.0   24.0   16.0   \n",
      "11    3   29     7      spirit       6.0       1.0      1.0   24.0    7.0   \n",
      "12    4   45     0      spirit       6.0       1.0      0.0   23.0    NaN   \n",
      "13   10   48     4  protestant       4.0       1.0      1.0   26.0    3.0   \n",
      "14    3   35    12  protestant       3.0       1.0      1.0   21.0   16.0   \n",
      "15    0   26     7    catholic       4.0       1.0      1.0    0.0   -1.0   \n",
      "16    4   38     7  protestant       5.0       1.0      1.0    0.0   -1.0   \n",
      "17    2   47     5      spirit       1.0       1.0      0.0    0.0   -1.0   \n",
      "18    0   32    16  protestant       2.0       1.0      1.0   25.0   16.0   \n",
      "19    1   27    12      spirit       3.0       1.0      1.0   23.0   16.0   \n",
      "20    0   23    12  protestant       2.0       1.0      1.0   18.0   12.0   \n",
      "21    4   39    11  protestant       4.0       1.0      0.0   23.0   16.0   \n",
      "22    2   38    12       other       4.0       1.0      0.0   25.0   14.0   \n",
      "23    4   39     6      spirit       4.0       1.0      0.0   18.0   10.0   \n",
      "24    1   21    10      spirit       1.0       1.0      0.0    0.0   -1.0   \n",
      "25    2   43    16  protestant       4.0       1.0      1.0   22.0   15.0   \n",
      "26    6   41    13  protestant       6.0       1.0      1.0   18.0   15.0   \n",
      "27    3   46     3  protestant       4.0       1.0      0.0    0.0   -1.0   \n",
      "28    1   25    10  protestant       NaN       1.0      1.0    0.0   -1.0   \n",
      "29    4   46     0       other       4.0       1.0      1.0    0.0   -1.0   \n",
      "..  ...  ...   ...         ...       ...       ...      ...    ...    ...   \n",
      "70    1   24    16  protestant       3.0       1.0      1.0    0.0   -1.0   \n",
      "71    1   36     2  protestant       4.0       1.0      0.0   35.0    0.0   \n",
      "72    3   41    19  protestant       3.0       1.0      1.0   27.0   16.0   \n",
      "73    2   49     6  protestant       2.0       0.0      0.0   22.0    4.0   \n",
      "74    2   41     0    catholic       2.0       1.0      0.0    0.0   -1.0   \n",
      "75    2   47    15       other       2.0       1.0      1.0   21.0   15.0   \n",
      "76    2   40    13    catholic       2.0       1.0      1.0   20.0   12.0   \n",
      "77    4   39    15  protestant       4.0       1.0      1.0   22.0   13.0   \n",
      "78    2   22     0      spirit       5.0       1.0      0.0   20.0    6.0   \n",
      "79    0   17     7       other       4.0       1.0      1.0    0.0   -1.0   \n",
      "80    2   30    16      spirit       2.0       1.0      1.0   24.0   15.0   \n",
      "81    2   36    14  protestant       4.0       1.0      1.0   22.0   10.0   \n",
      "82    4   27    10       other       4.0       1.0      1.0   19.0   10.0   \n",
      "83    4   36     7  protestant       6.0       1.0      1.0    0.0   -1.0   \n",
      "84    0   17     8  protestant       2.0       1.0      0.0    0.0   -1.0   \n",
      "85    1   29     6  protestant       2.0       1.0      1.0   15.0   15.0   \n",
      "86    2   36     2       other       3.0       1.0      1.0    0.0   -1.0   \n",
      "87    5   46    10  protestant       4.0       1.0      1.0   24.0   10.0   \n",
      "88    3   30     5  protestant       3.0       1.0      1.0    0.0   -1.0   \n",
      "89    3   39    12       other       4.0       1.0      1.0   19.0   12.0   \n",
      "90    2   33    17       other       2.0       1.0      1.0   23.0   17.0   \n",
      "91    1   18    10  protestant       4.0       1.0      1.0    0.0   -1.0   \n",
      "92    2   28    11    catholic       4.0       1.0      1.0   22.0   12.0   \n",
      "93    1   24     7      spirit       4.0       1.0      1.0    0.0   -1.0   \n",
      "94    3   25    10  protestant       3.0       1.0      1.0   24.0   16.0   \n",
      "95    0   21     7  protestant       4.0       1.0      1.0    0.0   -1.0   \n",
      "96    0   16     7      spirit       4.0       1.0      1.0    0.0   -1.0   \n",
      "97    2   23     7       other       4.0       1.0      1.0    0.0   -1.0   \n",
      "98    2   25    10       other       3.0       1.0      1.0    0.0   -1.0   \n",
      "99    6   39    12       other       4.0       1.0      1.0   16.0   12.0   \n",
      "\n",
      "    urban  electric  radio   tv  bicycle  nevermarr  \n",
      "0       1       1.0    1.0  1.0      1.0          1  \n",
      "1       1       1.0    1.0  1.0      1.0          0  \n",
      "2       1       1.0    1.0  0.0      0.0          0  \n",
      "3       1       1.0    1.0  1.0      1.0          1  \n",
      "4       1       1.0    1.0  1.0      1.0          0  \n",
      "5       1       1.0    0.0  0.0      0.0          0  \n",
      "6       1       1.0    0.0  1.0      0.0          0  \n",
      "7       1       1.0    0.0  0.0      0.0          0  \n",
      "8       1       1.0    1.0  1.0      1.0          0  \n",
      "9       1       0.0    1.0  0.0      0.0          0  \n",
      "10      1       1.0    1.0  1.0      1.0          0  \n",
      "11      1       1.0    1.0  0.0      0.0          0  \n",
      "12      1       1.0    1.0  0.0      0.0          0  \n",
      "13      1       1.0    1.0  0.0      0.0          0  \n",
      "14      1       1.0    1.0  1.0      1.0          0  \n",
      "15      1       1.0    1.0  0.0      0.0          1  \n",
      "16      1       1.0    1.0  0.0      1.0          1  \n",
      "17      1       1.0    1.0  0.0      0.0          1  \n",
      "18      1       1.0    1.0  1.0      0.0          0  \n",
      "19      1       1.0    1.0  1.0      0.0          0  \n",
      "20      1       1.0    1.0  1.0      0.0          0  \n",
      "21      1       1.0    1.0  1.0      1.0          0  \n",
      "22      1       1.0    1.0  1.0      1.0          0  \n",
      "23      1       1.0    1.0  0.0      1.0          0  \n",
      "24      1       1.0    1.0  0.0      1.0          1  \n",
      "25      1       1.0    1.0  1.0      1.0          0  \n",
      "26      1       1.0    1.0  1.0      1.0          0  \n",
      "27      1       1.0    1.0  1.0      1.0          1  \n",
      "28      1       0.0    0.0  0.0      0.0          1  \n",
      "29      1       1.0    1.0  0.0      0.0          1  \n",
      "..    ...       ...    ...  ...      ...        ...  \n",
      "70      1       1.0    1.0  1.0      1.0          1  \n",
      "71      1       1.0    1.0  0.0      0.0          0  \n",
      "72      1       1.0    1.0  1.0      1.0          0  \n",
      "73      1       1.0    0.0  0.0      0.0          0  \n",
      "74      1       1.0    0.0  0.0      0.0          1  \n",
      "75      1       1.0    1.0  0.0      1.0          0  \n",
      "76      1       1.0    1.0  1.0      1.0          0  \n",
      "77      1       1.0    1.0  1.0      0.0          0  \n",
      "78      1       0.0    0.0  0.0      0.0          0  \n",
      "79      1       1.0    1.0  1.0      0.0          1  \n",
      "80      1       1.0    1.0  1.0      1.0          0  \n",
      "81      1       1.0    1.0  1.0      1.0          0  \n",
      "82      1       1.0    1.0  1.0      0.0          0  \n",
      "83      1       1.0    1.0  1.0      0.0          1  \n",
      "84      1       1.0    1.0  1.0      0.0          1  \n",
      "85      1       1.0    1.0  1.0      0.0          0  \n",
      "86      1       1.0    1.0  0.0      0.0          1  \n",
      "87      1       1.0    1.0  1.0      1.0          0  \n",
      "88      1       0.0    0.0  0.0      0.0          1  \n",
      "89      1       1.0    1.0  1.0      0.0          0  \n",
      "90      1       1.0    1.0  1.0      0.0          0  \n",
      "91      1       0.0    1.0  0.0      0.0          1  \n",
      "92      1       1.0    1.0  1.0      1.0          0  \n",
      "93      1       0.0    0.0  0.0      0.0          1  \n",
      "94      1       1.0    1.0  1.0      0.0          0  \n",
      "95      1       0.0    0.0  0.0      0.0          1  \n",
      "96      1       0.0    0.0  0.0      0.0          1  \n",
      "97      1       0.0    1.0  0.0      0.0          1  \n",
      "98      1       0.0    1.0  0.0      0.0          1  \n",
      "99      1       1.0    1.0  1.0      0.0          0  \n",
      "\n",
      "[100 rows x 15 columns]\n"
     ]
    }
   ],
   "source": [
    "#Создайте признак nevermarr, равный единице там, где в agefm пропуски\n",
    "df['nevermarr'] = missing_data['agefm']\n",
    "df.loc[df.nevermarr == True, 'nevermarr'] = 1\n",
    "df.loc[df.nevermarr == False, 'nevermarr'] = 0\n",
    "\n",
    "#Замените NaN в признаке agefm на 0\n",
    "df['agefm'].replace(np.nan, 0, inplace=True)\n",
    "\n",
    "# Удалите признак evermar\n",
    "df.drop(['evermarr'], axis=1, inplace=True)\n",
    "\n",
    "# объектов, где nevermarr = 1, замените NaN в признаке heduc на -1 \n",
    "df.loc[df['nevermarr'] == 1, 'heduc'] = -1\n",
    "\n",
    "print(df.head(100))"
   ]
  },
  {
   "cell_type": "code",
   "execution_count": 15,
   "metadata": {},
   "outputs": [
    {
     "data": {
      "text/plain": [
       "307"
      ]
     },
     "execution_count": 15,
     "metadata": {},
     "output_type": "execute_result"
    }
   ],
   "source": [
    "#количество строк с пропущенными величинами\n",
    "df.shape[0] - df.dropna().shape[0]"
   ]
  },
  {
   "cell_type": "markdown",
   "metadata": {
    "collapsed": true
   },
   "source": [
    "Избавимся от оставшихся пропусков.\n",
    "\n",
    "Для признаков idlnchld, heduc и usemeth проведите операцию, аналогичную предыдущей: создайте индикаторы пропусков по этим признакам (idlnchld_noans, heduc_noans, usemeth_noans), замените пропуски на нехарактерные значения \n",
    "\n",
    "idlnchld = −1\n",
    "\n",
    "heduc2 =−2\n",
    "\n",
    "usemeth =−1\n",
    "\n",
    "Остались только пропуски в признаках knowmeth, electric, radio, tv и bicycle. Их очень мало, так что удалите объекты, на которых их значения пропущены.\n",
    "\n",
    "Какого размера теперь наша матрица данных? Умножьте количество строк на количество всех столбцов (включая отклик ceb)."
   ]
  },
  {
   "cell_type": "code",
   "execution_count": 23,
   "metadata": {},
   "outputs": [
    {
     "data": {
      "text/plain": [
       "0"
      ]
     },
     "execution_count": 23,
     "metadata": {},
     "output_type": "execute_result"
    }
   ],
   "source": [
    "df['idlnchld'].replace(np.nan, -1, inplace=True)\n",
    "df['heduc'].replace(np.nan, -2, inplace=True)\n",
    "df['usemeth'].replace(np.nan, -1, inplace=True)\n",
    "df.dropna(inplace=True)\n",
    "df.shape[0] - df.dropna().shape[0]"
   ]
  },
  {
   "cell_type": "code",
   "execution_count": 25,
   "metadata": {},
   "outputs": [
    {
     "name": "stdout",
     "output_type": "stream",
     "text": [
      "<class 'pandas.core.frame.DataFrame'>\n",
      "Int64Index: 4348 entries, 0 to 4360\n",
      "Data columns (total 15 columns):\n",
      "ceb          4348 non-null int64\n",
      "age          4348 non-null int64\n",
      "educ         4348 non-null int64\n",
      "religion     4348 non-null object\n",
      "idlnchld     4348 non-null float64\n",
      "knowmeth     4348 non-null float64\n",
      "usemeth      4348 non-null float64\n",
      "agefm        4348 non-null float64\n",
      "heduc        4348 non-null float64\n",
      "urban        4348 non-null int64\n",
      "electric     4348 non-null float64\n",
      "radio        4348 non-null float64\n",
      "tv           4348 non-null float64\n",
      "bicycle      4348 non-null float64\n",
      "nevermarr    4348 non-null int64\n",
      "dtypes: float64(9), int64(5), object(1)\n",
      "memory usage: 543.5+ KB\n",
      "65220\n"
     ]
    }
   ],
   "source": [
    "#теперь нет пропущенных значений\n",
    "df.info()\n",
    "print(4348*15)"
   ]
  },
  {
   "cell_type": "markdown",
   "metadata": {},
   "source": [
    "### Постройте регрессию количества детей ceb на все имеющиеся признаки методом smf.ols, как в разобранном до этого примере. Какой получился коэффициент детерминации R^2R \n",
    "2\n",
    " ? Округлите до трёх знаков после десятичной точки"
   ]
  },
  {
   "cell_type": "code",
   "execution_count": 35,
   "metadata": {},
   "outputs": [
    {
     "name": "stdout",
     "output_type": "stream",
     "text": [
      "                            OLS Regression Results                            \n",
      "==============================================================================\n",
      "Dep. Variable:                    ceb   R-squared:                       0.638\n",
      "Model:                            OLS   Adj. R-squared:                  0.637\n",
      "Method:                 Least Squares   F-statistic:                     477.9\n",
      "Date:                Thu, 11 Jul 2019   Prob (F-statistic):               0.00\n",
      "Time:                        10:05:04   Log-Likelihood:                -7767.4\n",
      "No. Observations:                4348   AIC:                         1.557e+04\n",
      "Df Residuals:                    4331   BIC:                         1.568e+04\n",
      "Df Model:                          16                                         \n",
      "Covariance Type:            nonrobust                                         \n",
      "==========================================================================================\n",
      "                             coef    std err          t      P>|t|      [0.025      0.975]\n",
      "------------------------------------------------------------------------------------------\n",
      "Intercept                 -0.9862      0.211     -4.668      0.000      -1.400      -0.572\n",
      "religion[T.other]         -0.0924      0.083     -1.108      0.268      -0.256       0.071\n",
      "religion[T.protestant]    -0.0216      0.083     -0.261      0.794      -0.184       0.141\n",
      "religion[T.spirit]        -0.0198      0.078     -0.254      0.800      -0.172       0.133\n",
      "age                        0.1736      0.003     53.381      0.000       0.167       0.180\n",
      "educ                      -0.0762      0.007    -10.373      0.000      -0.091      -0.062\n",
      "idlnchld                   0.0568      0.010      5.774      0.000       0.038       0.076\n",
      "knowmeth                   0.5744      0.122      4.726      0.000       0.336       0.813\n",
      "usemeth                    0.5464      0.044     12.306      0.000       0.459       0.633\n",
      "agefm                     -0.0630      0.007     -9.539      0.000      -0.076      -0.050\n",
      "heduc                     -0.0381      0.008     -5.051      0.000      -0.053      -0.023\n",
      "urban                     -0.2311      0.047     -4.866      0.000      -0.324      -0.138\n",
      "electric                  -0.2928      0.078     -3.768      0.000      -0.445      -0.140\n",
      "radio                     -0.0302      0.051     -0.589      0.556      -0.131       0.070\n",
      "tv                        -0.1741      0.093     -1.866      0.062      -0.357       0.009\n",
      "bicycle                    0.2138      0.051      4.225      0.000       0.115       0.313\n",
      "nevermarr                 -2.1640      0.147    -14.769      0.000      -2.451      -1.877\n",
      "==============================================================================\n",
      "Omnibus:                      226.303   Durbin-Watson:                   1.885\n",
      "Prob(Omnibus):                  0.000   Jarque-Bera (JB):              872.294\n",
      "Skew:                          -0.006   Prob(JB):                    3.84e-190\n",
      "Kurtosis:                       5.194   Cond. No.                         354.\n",
      "==============================================================================\n",
      "\n",
      "Warnings:\n",
      "[1] Standard Errors assume that the covariance matrix of the errors is correctly specified.\n"
     ]
    }
   ],
   "source": [
    "import statsmodels.formula.api as smf\n",
    "\n",
    "m1 = smf.ols('ceb ~ age + educ + religion + idlnchld + knowmeth + usemeth +'\\\n",
    "                    'agefm + heduc + urban + electric + radio + tv + bicycle + nevermarr',  data=df)\n",
    "fitted = m1.fit()\n",
    "print (fitted.summary())"
   ]
  },
  {
   "cell_type": "code",
   "execution_count": 36,
   "metadata": {},
   "outputs": [
    {
     "name": "stdout",
     "output_type": "stream",
     "text": [
      "Populating the interactive namespace from numpy and matplotlib\n"
     ]
    },
    {
     "name": "stderr",
     "output_type": "stream",
     "text": [
      "C:\\Users\\user\\Anaconda3\\lib\\site-packages\\ipykernel_launcher.py:15: RuntimeWarning: invalid value encountered in log\n",
      "  from ipykernel import kernelapp as app\n"
     ]
    },
    {
     "data": {
      "image/png": "[encoded data removed]",
      "text/plain": [
       "<matplotlib.figure.Figure at 0xfbb1080>"
      ]
     },
     "metadata": {},
     "output_type": "display_data"
    }
   ],
   "source": [
    "\n",
    "import scipy as sc\n",
    "\n",
    "import statsmodels.formula.api as smf\n",
    "import statsmodels.stats.api as sms\n",
    "from statsmodels.graphics.regressionplots import plot_leverage_resid2\n",
    "import matplotlib.pyplot as plt\n",
    "\n",
    "%pylab inline\n",
    "\n",
    "plt.figure(figsize(16,7))\n",
    "plt.subplot(121)\n",
    "sc.stats.probplot(fitted.resid, dist=\"norm\", plot=pylab)\n",
    "plt.subplot(122)\n",
    "np.log(fitted.resid).plot.hist()\n",
    "plt.xlabel('Residuals', fontsize=14)\n",
    "pylab.show()"
   ]
  },
  {
   "cell_type": "markdown",
   "metadata": {},
   "source": [
    "### Проверьте критерием Бройша-Пагана гомоскедастичность ошибки в построенной модели. Выполняется ли она?\n",
    "\n",
    "Если ошибка гетероскедастична, перенастройте модель, сделав поправку Уайта типа HC1."
   ]
  },
  {
   "cell_type": "code",
   "execution_count": 37,
   "metadata": {},
   "outputs": [
    {
     "name": "stdout",
     "output_type": "stream",
     "text": [
      "Breusch-Pagan test: p=0.000000\n"
     ]
    },
    {
     "name": "stderr",
     "output_type": "stream",
     "text": [
      "C:\\Users\\user\\Anaconda3\\lib\\site-packages\\ipykernel_launcher.py:1: DeprecationWarning: `het_breushpagan` is deprecated, use `het_breuschpagan` instead!\n",
      "Use het_breuschpagan, het_breushpagan will be removed in 0.9 \n",
      "(Note: misspelling missing 'c')\n",
      "  \"\"\"Entry point for launching an IPython kernel.\n"
     ]
    }
   ],
   "source": [
    "print ('Breusch-Pagan test: p=%f' % sms.het_breushpagan(fitted.resid, fitted.model.exog)[1])"
   ]
  },
  {
   "cell_type": "markdown",
   "metadata": {},
   "source": [
    " Ошибки гетероскедастичны, значит, значимость признаков может определяться неверно. Сделаем поправку Уайта:"
   ]
  },
  {
   "cell_type": "code",
   "execution_count": 39,
   "metadata": {},
   "outputs": [
    {
     "name": "stdout",
     "output_type": "stream",
     "text": [
      "                            OLS Regression Results                            \n",
      "==============================================================================\n",
      "Dep. Variable:                    ceb   R-squared:                       0.638\n",
      "Model:                            OLS   Adj. R-squared:                  0.637\n",
      "Method:                 Least Squares   F-statistic:                     380.7\n",
      "Date:                Thu, 11 Jul 2019   Prob (F-statistic):               0.00\n",
      "Time:                        10:12:16   Log-Likelihood:                -7767.4\n",
      "No. Observations:                4348   AIC:                         1.557e+04\n",
      "Df Residuals:                    4331   BIC:                         1.568e+04\n",
      "Df Model:                          16                                         \n",
      "Covariance Type:                  HC1                                         \n",
      "==========================================================================================\n",
      "                             coef    std err          z      P>|z|      [0.025      0.975]\n",
      "------------------------------------------------------------------------------------------\n",
      "Intercept                 -0.9862      0.258     -3.817      0.000      -1.493      -0.480\n",
      "religion[T.other]         -0.0924      0.078     -1.184      0.237      -0.245       0.061\n",
      "religion[T.protestant]    -0.0216      0.078     -0.277      0.782      -0.175       0.131\n",
      "religion[T.spirit]        -0.0198      0.072     -0.276      0.782      -0.160       0.121\n",
      "age                        0.1736      0.004     39.792      0.000       0.165       0.182\n",
      "educ                      -0.0762      0.007    -10.436      0.000      -0.091      -0.062\n",
      "idlnchld                   0.0568      0.014      4.182      0.000       0.030       0.083\n",
      "knowmeth                   0.5744      0.172      3.345      0.001       0.238       0.911\n",
      "usemeth                    0.5464      0.047     11.646      0.000       0.454       0.638\n",
      "agefm                     -0.0630      0.010     -6.437      0.000      -0.082      -0.044\n",
      "heduc                     -0.0381      0.009     -4.478      0.000      -0.055      -0.021\n",
      "urban                     -0.2311      0.046     -5.003      0.000      -0.322      -0.141\n",
      "electric                  -0.2928      0.074     -3.975      0.000      -0.437      -0.148\n",
      "radio                     -0.0302      0.053     -0.569      0.569      -0.134       0.074\n",
      "tv                        -0.1741      0.083     -2.089      0.037      -0.337      -0.011\n",
      "bicycle                    0.2138      0.049      4.361      0.000       0.118       0.310\n",
      "nevermarr                 -2.1640      0.202    -10.737      0.000      -2.559      -1.769\n",
      "==============================================================================\n",
      "Omnibus:                      226.303   Durbin-Watson:                   1.885\n",
      "Prob(Omnibus):                  0.000   Jarque-Bera (JB):              872.294\n",
      "Skew:                          -0.006   Prob(JB):                    3.84e-190\n",
      "Kurtosis:                       5.194   Cond. No.                         354.\n",
      "==============================================================================\n",
      "\n",
      "Warnings:\n",
      "[1] Standard Errors are heteroscedasticity robust (HC1)\n"
     ]
    }
   ],
   "source": [
    "m2 = smf.ols('ceb ~ age + educ + religion + idlnchld + knowmeth + usemeth +'\\\n",
    "                    'agefm + heduc + urban + electric + radio + tv + bicycle + nevermarr',  data=df)\n",
    "fitted2 = m2.fit(cov_type='HC1')\n",
    "print (fitted2.summary())\n"
   ]
  },
  {
   "cell_type": "markdown",
   "metadata": {},
   "source": [
    "### Удалите из модели незначимые признаки religion, radio и tv. Проверьте гомоскедастичность ошибки, при необходимости сделайте поправку Уайта.\n",
    "\n",
    "Не произошло ли значимого ухудшения модели после удаления этой группы признаков? Проверьте с помощью критерия Фишера. Чему равен его достигаемый уровень значимости? Округлите до четырёх цифр после десятичной точки.\n",
    "\n",
    "Если достигаемый уровень значимости получился маленький, верните все удалённые признаки; если он достаточно велик, оставьте модель без религии, тв и радио."
   ]
  },
  {
   "cell_type": "code",
   "execution_count": 46,
   "metadata": {},
   "outputs": [
    {
     "name": "stdout",
     "output_type": "stream",
     "text": [
      "                            OLS Regression Results                            \n",
      "==============================================================================\n",
      "Dep. Variable:                    ceb   R-squared:                       0.638\n",
      "Model:                            OLS   Adj. R-squared:                  0.637\n",
      "Method:                 Least Squares   F-statistic:                     694.3\n",
      "Date:                Thu, 11 Jul 2019   Prob (F-statistic):               0.00\n",
      "Time:                        10:55:31   Log-Likelihood:                -7770.6\n",
      "No. Observations:                4348   AIC:                         1.557e+04\n",
      "Df Residuals:                    4336   BIC:                         1.564e+04\n",
      "Df Model:                          11                                         \n",
      "Covariance Type:            nonrobust                                         \n",
      "==============================================================================\n",
      "                 coef    std err          t      P>|t|      [0.025      0.975]\n",
      "------------------------------------------------------------------------------\n",
      "Intercept     -1.0350      0.197     -5.265      0.000      -1.420      -0.650\n",
      "age            0.1735      0.003     53.713      0.000       0.167       0.180\n",
      "educ          -0.0772      0.007    -10.916      0.000      -0.091      -0.063\n",
      "idlnchld       0.0580      0.010      5.911      0.000       0.039       0.077\n",
      "knowmeth       0.5801      0.121      4.783      0.000       0.342       0.818\n",
      "usemeth        0.5500      0.044     12.406      0.000       0.463       0.637\n",
      "agefm         -0.0632      0.007     -9.575      0.000      -0.076      -0.050\n",
      "heduc         -0.0404      0.007     -5.410      0.000      -0.055      -0.026\n",
      "urban         -0.2381      0.047     -5.059      0.000      -0.330      -0.146\n",
      "electric      -0.3560      0.070     -5.058      0.000      -0.494      -0.218\n",
      "bicycle        0.2025      0.050      4.078      0.000       0.105       0.300\n",
      "nevermarr     -2.1754      0.146    -14.859      0.000      -2.462      -1.888\n",
      "==============================================================================\n",
      "Omnibus:                      225.915   Durbin-Watson:                   1.882\n",
      "Prob(Omnibus):                  0.000   Jarque-Bera (JB):              869.577\n",
      "Skew:                          -0.005   Prob(JB):                    1.49e-189\n",
      "Kurtosis:                       5.191   Cond. No.                         336.\n",
      "==============================================================================\n",
      "\n",
      "Warnings:\n",
      "[1] Standard Errors assume that the covariance matrix of the errors is correctly specified.\n",
      "F=1.243884, p=nan, k1=-5.000000\n"
     ]
    }
   ],
   "source": [
    "import statsmodels\n",
    "import scipy as sc\n",
    "import numpy as np\n",
    "import pandas as pd\n",
    "import statsmodels.formula.api as smf\n",
    "import statsmodels.stats.api as sms\n",
    "from statsmodels.graphics.regressionplots import plot_leverage_resid2\n",
    "import matplotlib.pyplot as plt\n",
    "\n",
    "m3 = smf.ols('ceb ~ age + educ + idlnchld + knowmeth + usemeth +'\\\n",
    "                    'agefm + heduc + urban + electric  + bicycle + nevermarr',  data=df)\n",
    "fitted3 = m3.fit()\n",
    "print (fitted3.summary())\n",
    "print (\"F=%f, p=%f, k1=%f\" % m3.fit().compare_f_test(m1.fit()))\n"
   ]
  },
  {
   "cell_type": "code",
   "execution_count": null,
   "metadata": {
    "collapsed": true
   },
   "outputs": [],
   "source": []
  }
 ],
 "metadata": {
  "kernelspec": {
   "display_name": "Python 3",
   "language": "python",
   "name": "python3"
  },
  "language_info": {
   "codemirror_mode": {
    "name": "ipython",
    "version": 3
   },
   "file_extension": ".py",
   "mimetype": "text/x-python",
   "name": "python",
   "nbconvert_exporter": "python",
   "pygments_lexer": "ipython3",
   "version": "3.6.2"
  }
 },
 "nbformat": 4,
 "nbformat_minor": 2
}
